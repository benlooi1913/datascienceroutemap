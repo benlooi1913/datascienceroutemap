{
 "cells": [
  {
   "cell_type": "markdown",
   "id": "d58082e0",
   "metadata": {},
   "source": [
    "# Looi Kah Fung_Lab 2 KNN_P-COM0049/22"
   ]
  },
  {
   "cell_type": "markdown",
   "id": "fdcbca30",
   "metadata": {},
   "source": [
    "CRISP-DM Methodology \n",
    "#Business understanding\n",
    "The data set comes from teaching assistant evaluation of the Statistics Department, University of\n",
    "Wilconsin-Madison. The data set is composed of 151 rows of data or examples or instances.\n",
    "Each instance corresponds to a teaching assistant evaluation from a course. Each instance\n",
    "describes features/attributes of an object or entity, which in our case here is a teaching assistant\n",
    "evaluation. In the TEA data set, there are six attributes including the class attribute indicating the\n",
    "class/category information."
   ]
  },
  {
   "cell_type": "markdown",
   "id": "4e3fa7e3",
   "metadata": {},
   "source": [
    "#Data understanding\n",
    "Quantitative attribute - comprised of discrete & continuous\n",
    "Qualitative attribute - comprised of ordinal & nominal\n",
    "Native speaker - nominal \n",
    "Course instructor -discrete \n",
    "Course - discrete \n",
    "Semesterr - nominal \n",
    "Class Size - discrete \n",
    "Class - ordinal \n",
    "https://t4tutorials.com/attributes-types-in-data-mining/"
   ]
  },
  {
   "cell_type": "code",
   "execution_count": 42,
   "id": "1a3551cc",
   "metadata": {},
   "outputs": [
    {
     "name": "stdout",
     "output_type": "stream",
     "text": [
      "Requirement already satisfied: scikit-learn in c:\\users\\looi\\anaconda3\\lib\\site-packages (0.24.2)\n",
      "Requirement already satisfied: scipy>=0.19.1 in c:\\users\\looi\\anaconda3\\lib\\site-packages (from scikit-learn) (1.7.1)\n",
      "Requirement already satisfied: joblib>=0.11 in c:\\users\\looi\\anaconda3\\lib\\site-packages (from scikit-learn) (1.1.0)\n",
      "Requirement already satisfied: threadpoolctl>=2.0.0 in c:\\users\\looi\\anaconda3\\lib\\site-packages (from scikit-learn) (2.2.0)\n",
      "Requirement already satisfied: numpy>=1.13.3 in c:\\users\\looi\\anaconda3\\lib\\site-packages (from scikit-learn) (1.20.3)\n"
     ]
    }
   ],
   "source": [
    "!pip install scikit-learn\n",
    "import sklearn\n",
    "from sklearn.model_selection import train_test_split\n",
    "import pandas as pd \n",
    "import numpy as np \n",
    "\n",
    "df= pd.read_csv(\"tae_updated 11 Nov 2021.csv\")"
   ]
  },
  {
   "cell_type": "code",
   "execution_count": 43,
   "id": "443afa22",
   "metadata": {},
   "outputs": [
    {
     "data": {
      "text/html": [
       "<div>\n",
       "<style scoped>\n",
       "    .dataframe tbody tr th:only-of-type {\n",
       "        vertical-align: middle;\n",
       "    }\n",
       "\n",
       "    .dataframe tbody tr th {\n",
       "        vertical-align: top;\n",
       "    }\n",
       "\n",
       "    .dataframe thead th {\n",
       "        text-align: right;\n",
       "    }\n",
       "</style>\n",
       "<table border=\"1\" class=\"dataframe\">\n",
       "  <thead>\n",
       "    <tr style=\"text-align: right;\">\n",
       "      <th></th>\n",
       "      <th>Native Speaker</th>\n",
       "      <th>Course instructor</th>\n",
       "      <th>Course</th>\n",
       "      <th>Semesterr</th>\n",
       "      <th>Class Size</th>\n",
       "      <th>Class</th>\n",
       "    </tr>\n",
       "  </thead>\n",
       "  <tbody>\n",
       "    <tr>\n",
       "      <th>count</th>\n",
       "      <td>151.000000</td>\n",
       "      <td>151.000000</td>\n",
       "      <td>151.000000</td>\n",
       "      <td>151.000000</td>\n",
       "      <td>151.000000</td>\n",
       "      <td>151.000000</td>\n",
       "    </tr>\n",
       "    <tr>\n",
       "      <th>mean</th>\n",
       "      <td>1.807947</td>\n",
       "      <td>13.642384</td>\n",
       "      <td>8.105960</td>\n",
       "      <td>1.847682</td>\n",
       "      <td>27.867550</td>\n",
       "      <td>2.019868</td>\n",
       "    </tr>\n",
       "    <tr>\n",
       "      <th>std</th>\n",
       "      <td>0.395225</td>\n",
       "      <td>6.825779</td>\n",
       "      <td>7.023914</td>\n",
       "      <td>0.360525</td>\n",
       "      <td>12.893758</td>\n",
       "      <td>0.820327</td>\n",
       "    </tr>\n",
       "    <tr>\n",
       "      <th>min</th>\n",
       "      <td>1.000000</td>\n",
       "      <td>1.000000</td>\n",
       "      <td>1.000000</td>\n",
       "      <td>1.000000</td>\n",
       "      <td>3.000000</td>\n",
       "      <td>1.000000</td>\n",
       "    </tr>\n",
       "    <tr>\n",
       "      <th>25%</th>\n",
       "      <td>2.000000</td>\n",
       "      <td>8.000000</td>\n",
       "      <td>3.000000</td>\n",
       "      <td>2.000000</td>\n",
       "      <td>19.000000</td>\n",
       "      <td>1.000000</td>\n",
       "    </tr>\n",
       "    <tr>\n",
       "      <th>50%</th>\n",
       "      <td>2.000000</td>\n",
       "      <td>13.000000</td>\n",
       "      <td>4.000000</td>\n",
       "      <td>2.000000</td>\n",
       "      <td>27.000000</td>\n",
       "      <td>2.000000</td>\n",
       "    </tr>\n",
       "    <tr>\n",
       "      <th>75%</th>\n",
       "      <td>2.000000</td>\n",
       "      <td>20.000000</td>\n",
       "      <td>15.000000</td>\n",
       "      <td>2.000000</td>\n",
       "      <td>37.000000</td>\n",
       "      <td>3.000000</td>\n",
       "    </tr>\n",
       "    <tr>\n",
       "      <th>max</th>\n",
       "      <td>2.000000</td>\n",
       "      <td>25.000000</td>\n",
       "      <td>26.000000</td>\n",
       "      <td>2.000000</td>\n",
       "      <td>66.000000</td>\n",
       "      <td>3.000000</td>\n",
       "    </tr>\n",
       "  </tbody>\n",
       "</table>\n",
       "</div>"
      ],
      "text/plain": [
       "       Native Speaker  Course instructor      Course   Semesterr  Class Size  \\\n",
       "count      151.000000         151.000000  151.000000  151.000000  151.000000   \n",
       "mean         1.807947          13.642384    8.105960    1.847682   27.867550   \n",
       "std          0.395225           6.825779    7.023914    0.360525   12.893758   \n",
       "min          1.000000           1.000000    1.000000    1.000000    3.000000   \n",
       "25%          2.000000           8.000000    3.000000    2.000000   19.000000   \n",
       "50%          2.000000          13.000000    4.000000    2.000000   27.000000   \n",
       "75%          2.000000          20.000000   15.000000    2.000000   37.000000   \n",
       "max          2.000000          25.000000   26.000000    2.000000   66.000000   \n",
       "\n",
       "            Class  \n",
       "count  151.000000  \n",
       "mean     2.019868  \n",
       "std      0.820327  \n",
       "min      1.000000  \n",
       "25%      1.000000  \n",
       "50%      2.000000  \n",
       "75%      3.000000  \n",
       "max      3.000000  "
      ]
     },
     "execution_count": 43,
     "metadata": {},
     "output_type": "execute_result"
    }
   ],
   "source": [
    "#describe the data\n",
    "df.describe()"
   ]
  },
  {
   "cell_type": "code",
   "execution_count": 117,
   "id": "6d95905e",
   "metadata": {},
   "outputs": [
    {
     "data": {
      "text/html": [
       "<div>\n",
       "<style scoped>\n",
       "    .dataframe tbody tr th:only-of-type {\n",
       "        vertical-align: middle;\n",
       "    }\n",
       "\n",
       "    .dataframe tbody tr th {\n",
       "        vertical-align: top;\n",
       "    }\n",
       "\n",
       "    .dataframe thead th {\n",
       "        text-align: right;\n",
       "    }\n",
       "</style>\n",
       "<table border=\"1\" class=\"dataframe\">\n",
       "  <thead>\n",
       "    <tr style=\"text-align: right;\">\n",
       "      <th></th>\n",
       "      <th>Native Speaker</th>\n",
       "      <th>Course instructor</th>\n",
       "      <th>Course</th>\n",
       "      <th>Semesterr</th>\n",
       "      <th>Class Size</th>\n",
       "      <th>Class</th>\n",
       "    </tr>\n",
       "  </thead>\n",
       "  <tbody>\n",
       "    <tr>\n",
       "      <th>0</th>\n",
       "      <td>1</td>\n",
       "      <td>23</td>\n",
       "      <td>3</td>\n",
       "      <td>1</td>\n",
       "      <td>19</td>\n",
       "      <td>3</td>\n",
       "    </tr>\n",
       "    <tr>\n",
       "      <th>1</th>\n",
       "      <td>2</td>\n",
       "      <td>15</td>\n",
       "      <td>3</td>\n",
       "      <td>1</td>\n",
       "      <td>17</td>\n",
       "      <td>3</td>\n",
       "    </tr>\n",
       "    <tr>\n",
       "      <th>2</th>\n",
       "      <td>1</td>\n",
       "      <td>23</td>\n",
       "      <td>3</td>\n",
       "      <td>2</td>\n",
       "      <td>49</td>\n",
       "      <td>3</td>\n",
       "    </tr>\n",
       "    <tr>\n",
       "      <th>3</th>\n",
       "      <td>1</td>\n",
       "      <td>5</td>\n",
       "      <td>2</td>\n",
       "      <td>2</td>\n",
       "      <td>33</td>\n",
       "      <td>3</td>\n",
       "    </tr>\n",
       "    <tr>\n",
       "      <th>4</th>\n",
       "      <td>2</td>\n",
       "      <td>7</td>\n",
       "      <td>11</td>\n",
       "      <td>2</td>\n",
       "      <td>55</td>\n",
       "      <td>3</td>\n",
       "    </tr>\n",
       "  </tbody>\n",
       "</table>\n",
       "</div>"
      ],
      "text/plain": [
       "   Native Speaker  Course instructor  Course  Semesterr  Class Size  Class\n",
       "0               1                 23       3          1          19      3\n",
       "1               2                 15       3          1          17      3\n",
       "2               1                 23       3          2          49      3\n",
       "3               1                  5       2          2          33      3\n",
       "4               2                  7      11          2          55      3"
      ]
     },
     "execution_count": 117,
     "metadata": {},
     "output_type": "execute_result"
    }
   ],
   "source": [
    "#print the 1st 5 rows \n",
    "df.head(5)"
   ]
  },
  {
   "cell_type": "code",
   "execution_count": 44,
   "id": "1b0e9745",
   "metadata": {},
   "outputs": [
    {
     "data": {
      "text/plain": [
       "<bound method DataFrame.info of      Native Speaker  Course instructor  Course  Semesterr  Class Size  Class\n",
       "0                 1                 23       3          1          19      3\n",
       "1                 2                 15       3          1          17      3\n",
       "2                 1                 23       3          2          49      3\n",
       "3                 1                  5       2          2          33      3\n",
       "4                 2                  7      11          2          55      3\n",
       "..              ...                ...     ...        ...         ...    ...\n",
       "146               2                  3       2          2          26      1\n",
       "147               2                 10       3          2          12      1\n",
       "148               1                 18       7          2          48      1\n",
       "149               2                 22       1          2          51      1\n",
       "150               2                  2      10          2          27      1\n",
       "\n",
       "[151 rows x 6 columns]>"
      ]
     },
     "execution_count": 44,
     "metadata": {},
     "output_type": "execute_result"
    }
   ],
   "source": [
    "#retrieve the preliminary info of the dataset \n",
    "df.info"
   ]
  },
  {
   "cell_type": "code",
   "execution_count": 45,
   "id": "de95d830",
   "metadata": {},
   "outputs": [
    {
     "data": {
      "text/html": [
       "<div>\n",
       "<style scoped>\n",
       "    .dataframe tbody tr th:only-of-type {\n",
       "        vertical-align: middle;\n",
       "    }\n",
       "\n",
       "    .dataframe tbody tr th {\n",
       "        vertical-align: top;\n",
       "    }\n",
       "\n",
       "    .dataframe thead th {\n",
       "        text-align: right;\n",
       "    }\n",
       "</style>\n",
       "<table border=\"1\" class=\"dataframe\">\n",
       "  <thead>\n",
       "    <tr style=\"text-align: right;\">\n",
       "      <th></th>\n",
       "      <th>Native Speaker</th>\n",
       "      <th>Course instructor</th>\n",
       "      <th>Course</th>\n",
       "      <th>Semesterr</th>\n",
       "      <th>Class Size</th>\n",
       "      <th>Class</th>\n",
       "    </tr>\n",
       "  </thead>\n",
       "  <tbody>\n",
       "    <tr>\n",
       "      <th>0</th>\n",
       "      <td>1</td>\n",
       "      <td>23</td>\n",
       "      <td>3</td>\n",
       "      <td>1</td>\n",
       "      <td>19</td>\n",
       "      <td>3</td>\n",
       "    </tr>\n",
       "    <tr>\n",
       "      <th>1</th>\n",
       "      <td>2</td>\n",
       "      <td>15</td>\n",
       "      <td>3</td>\n",
       "      <td>1</td>\n",
       "      <td>17</td>\n",
       "      <td>3</td>\n",
       "    </tr>\n",
       "    <tr>\n",
       "      <th>2</th>\n",
       "      <td>1</td>\n",
       "      <td>23</td>\n",
       "      <td>3</td>\n",
       "      <td>2</td>\n",
       "      <td>49</td>\n",
       "      <td>3</td>\n",
       "    </tr>\n",
       "    <tr>\n",
       "      <th>3</th>\n",
       "      <td>1</td>\n",
       "      <td>5</td>\n",
       "      <td>2</td>\n",
       "      <td>2</td>\n",
       "      <td>33</td>\n",
       "      <td>3</td>\n",
       "    </tr>\n",
       "    <tr>\n",
       "      <th>4</th>\n",
       "      <td>2</td>\n",
       "      <td>7</td>\n",
       "      <td>11</td>\n",
       "      <td>2</td>\n",
       "      <td>55</td>\n",
       "      <td>3</td>\n",
       "    </tr>\n",
       "  </tbody>\n",
       "</table>\n",
       "</div>"
      ],
      "text/plain": [
       "   Native Speaker  Course instructor  Course  Semesterr  Class Size  Class\n",
       "0               1                 23       3          1          19      3\n",
       "1               2                 15       3          1          17      3\n",
       "2               1                 23       3          2          49      3\n",
       "3               1                  5       2          2          33      3\n",
       "4               2                  7      11          2          55      3"
      ]
     },
     "execution_count": 45,
     "metadata": {},
     "output_type": "execute_result"
    }
   ],
   "source": [
    "#print the 1st 5 rows \n",
    "df.head(5)"
   ]
  },
  {
   "cell_type": "code",
   "execution_count": 46,
   "id": "fda029ea",
   "metadata": {},
   "outputs": [
    {
     "data": {
      "text/plain": [
       "3    52\n",
       "2    50\n",
       "1    49\n",
       "Name: Class, dtype: int64"
      ]
     },
     "execution_count": 46,
     "metadata": {},
     "output_type": "execute_result"
    }
   ],
   "source": [
    "#count observations based on attribute \n",
    "df['Class'].value_counts()"
   ]
  },
  {
   "cell_type": "code",
   "execution_count": 47,
   "id": "0eeb3100",
   "metadata": {},
   "outputs": [
    {
     "data": {
      "text/plain": [
       "Native Speaker       0\n",
       "Course instructor    0\n",
       "Course               0\n",
       "Semesterr            0\n",
       "Class Size           0\n",
       "dtype: int64"
      ]
     },
     "execution_count": 47,
     "metadata": {},
     "output_type": "execute_result"
    }
   ],
   "source": [
    "#select rows from dataframe, exclude the last attribute \n",
    "X=df.iloc[:,:-1]\n",
    "# sum of null data based on attributes \n",
    "X.isnull().sum()"
   ]
  },
  {
   "cell_type": "markdown",
   "id": "38942e81",
   "metadata": {},
   "source": [
    "#Data Preparation "
   ]
  },
  {
   "cell_type": "code",
   "execution_count": 111,
   "id": "213273cc",
   "metadata": {
    "scrolled": true
   },
   "outputs": [],
   "source": [
    "#Training dataset \n",
    "#select all columns except the last one \n",
    "X= df.drop(\"Class\", axis=1)\n",
    "#set target categorical data label (6th attribute)\n",
    "y= df[\"Class\"]\n",
    "\n",
    "#train-test split - 70/30 ratio\n",
    "X_train,X_test,y_train,y_test= train_test_split(X,y,test_size=0.3,random_state=42) #data imbalance, add a new argument stratify = y "
   ]
  },
  {
   "cell_type": "code",
   "execution_count": 112,
   "id": "bd948eb8",
   "metadata": {},
   "outputs": [
    {
     "name": "stdout",
     "output_type": "stream",
     "text": [
      "-------- x axis test ----------\n",
      "     Native Speaker  Course instructor  Course  Semesterr  Class Size\n",
      "76                2                  5       2          2          48\n",
      "18                2                 13       3          1          10\n",
      "82                2                 13       3          1          11\n",
      "81                2                  9       2          2          39\n",
      "143               2                  3       2          2          37\n",
      "31                2                 18       5          2          19\n",
      "78                1                 23       3          1          25\n",
      "64                2                  7      11          2          13\n",
      "55                2                  7      11          2          10\n",
      "85                2                  7      11          1          20\n",
      "45                2                  9       5          2          19\n",
      "12                2                 18      21          2          29\n",
      "36                2                  4      16          2          21\n",
      "9                 2                 15       3          1          20\n",
      "19                2                  7      25          2          42\n",
      "137               2                 22       1          2          42\n",
      "114               2                 12       7          2          34\n",
      "146               2                  3       2          2          26\n",
      "56                2                 22       3          2          46\n",
      "133               2                 24      26          2          21\n",
      "29                2                 22       3          2          28\n",
      "84                1                 22       3          2          45\n",
      "26                2                  8       3          2          24\n",
      "132               2                 14      23          2          17\n",
      "124               2                 14      15          2          36\n",
      "142               2                 16      20          2          15\n",
      "111               2                  7      11          2          30\n",
      "67                2                 21       2          2          42\n",
      "98                2                  9       2          2          14\n",
      "30                2                 11       1          2          51\n",
      "22                2                  2       9          2          31\n",
      "15                2                  6      17          2          43\n",
      "125               1                 13       1          2          54\n",
      "11                2                 13       1          2          30\n",
      "127               2                 20       2          2          45\n",
      "51                2                 18      21          2          29\n",
      "66                2                 14      15          2          38\n",
      "27                2                 14      15          2          38\n",
      "105               2                 20       2          2          25\n",
      "4                 2                  7      11          2          55\n",
      "32                2                 13       1          2          31\n",
      "42                1                  5       2          2          33\n",
      "144               2                 19       4          2          10\n",
      "149               2                 22       1          2          51\n",
      "16                2                  7      11          2          10\n",
      "10                2                 10      22          2           9\n",
      "-------- x axis train ---------\n",
      "     Native Speaker  Course instructor  Course  Semesterr  Class Size\n",
      "109               2                 13       1          2          29\n",
      "126               1                  8       3          2          29\n",
      "75                2                  4      16          2          21\n",
      "113               2                  8       3          2          27\n",
      "65                2                  8       3          2          24\n",
      "..              ...                ...     ...        ...         ...\n",
      "71                2                 13       1          2          31\n",
      "106               2                 23       3          2          10\n",
      "14                2                  6      17          2          42\n",
      "92                2                 18      25          2          25\n",
      "102               1                 23       3          1          20\n",
      "\n",
      "[105 rows x 5 columns]\n",
      "-------- y axis test ----------\n",
      "76     1\n",
      "18     2\n",
      "82     3\n",
      "81     3\n",
      "143    1\n",
      "31     1\n",
      "78     3\n",
      "64     2\n",
      "55     2\n",
      "85     3\n",
      "45     3\n",
      "12     3\n",
      "36     1\n",
      "9      3\n",
      "19     2\n",
      "137    2\n",
      "114    1\n",
      "146    1\n",
      "56     2\n",
      "133    2\n",
      "29     1\n",
      "84     3\n",
      "26     2\n",
      "132    2\n",
      "124    3\n",
      "142    1\n",
      "111    1\n",
      "67     1\n",
      "98     2\n",
      "30     1\n",
      "22     2\n",
      "15     2\n",
      "125    3\n",
      "11     3\n",
      "127    3\n",
      "51     3\n",
      "66     2\n",
      "27     2\n",
      "105    2\n",
      "4      3\n",
      "32     1\n",
      "42     3\n",
      "144    1\n",
      "149    1\n",
      "16     2\n",
      "10     3\n",
      "Name: Class, dtype: int64\n",
      "-------- y axis train ---------\n",
      "109    1\n",
      "126    3\n",
      "75     1\n",
      "113    1\n",
      "65     2\n",
      "      ..\n",
      "71     1\n",
      "106    2\n",
      "14     2\n",
      "92     3\n",
      "102    2\n",
      "Name: Class, Length: 105, dtype: int64\n",
      "*******************************\n"
     ]
    }
   ],
   "source": [
    "print('-------- x axis test ----------')\n",
    "print(X_test)\n",
    "print('-------- x axis train ---------')\n",
    "print(X_train)\n",
    "print('-------- y axis test ----------')\n",
    "print(y_test)\n",
    "print('-------- y axis train ---------')\n",
    "print(y_train)\n",
    "print('*******************************')"
   ]
  },
  {
   "cell_type": "markdown",
   "id": "9eb42493",
   "metadata": {},
   "source": [
    "#Modelling "
   ]
  },
  {
   "cell_type": "markdown",
   "id": "91fd97d6",
   "metadata": {},
   "source": [
    "#Evaluation"
   ]
  },
  {
   "cell_type": "code",
   "execution_count": 113,
   "id": "7af96419",
   "metadata": {},
   "outputs": [
    {
     "data": {
      "text/plain": [
       "0.5652173913043478"
      ]
     },
     "execution_count": 113,
     "metadata": {},
     "output_type": "execute_result"
    }
   ],
   "source": [
    "#import KNN model as 'KNeighborsClassifier'\n",
    "from sklearn.neighbors import KNeighborsClassifier\n",
    "from sklearn import metrics \n",
    "\n",
    "#define k-value\n",
    "knn= KNeighborsClassifier(n_neighbors=1)\n",
    "knn.fit(X_train,y_train)\n",
    "\n",
    "#Estimate the accuracy of the classifier on test data\n",
    "y_pred= knn.predict(X_test)\n",
    "score = metrics.accuracy_score(y_test,y_pred)\n",
    "score"
   ]
  },
  {
   "cell_type": "markdown",
   "id": "ac72e921",
   "metadata": {},
   "source": [
    "The result showed that the highest accuracy obtained by KNN when k=1 (accuracy=0.565)"
   ]
  },
  {
   "cell_type": "markdown",
   "id": "5ad523bb",
   "metadata": {},
   "source": [
    "Hyperparameter tuning, k "
   ]
  },
  {
   "cell_type": "code",
   "execution_count": 114,
   "id": "9c0d8dbe",
   "metadata": {},
   "outputs": [
    {
     "name": "stdout",
     "output_type": "stream",
     "text": [
      "The optimal number of neighbors is 16\n",
      "The optimal score is 0.63\n"
     ]
    },
    {
     "data": {
      "image/png": "[encoded data removed]",
      "text/plain": [
       "<Figure size 1080x360 with 1 Axes>"
      ]
     },
     "metadata": {
      "needs_background": "light"
     },
     "output_type": "display_data"
    }
   ],
   "source": [
    "import matplotlib.pyplot as plt # library for plotting\n",
    "import warnings # to hide unnecesary warning\n",
    "warnings.filterwarnings('ignore')\n",
    "# line required for inline charts/plots\n",
    "%matplotlib inline\n",
    "# empty variable for storing the KNN metrics\n",
    "scores=[]\n",
    "# We try different values of k for the KNN (from k=1 up to k=20)\n",
    "lrange=list(range(1,25))\n",
    "# loop the KNN process\n",
    "for k in lrange:\n",
    " # input the k value and 'distance' measure\n",
    " knn=KNeighborsClassifier(n_neighbors=k, weights='distance', algorithm='auto')\n",
    " # input the train data to train KNN\n",
    " knn.fit(X_train,y_train)\n",
    " # see KNN prediction by inputting the test data\n",
    " y_pred=knn.predict(X_test)\n",
    " # append the performance metric (accuracy)\n",
    " scores.append(metrics.accuracy_score(y_test,y_pred))\n",
    " optimal_k = lrange[scores.index(max(scores))]\n",
    "\n",
    "print(\"The optimal number of neighbors is %d\" % optimal_k)\n",
    "print(\"The optimal score is %.2f\" % max(scores))\n",
    "plt.figure(2,figsize=(15,5))\n",
    "\n",
    "# plot the results\n",
    "plt.plot(lrange, scores,ls='dashed')\n",
    "plt.xlabel('Value of k for KNN')\n",
    "plt.ylabel('Accuracy Score')\n",
    "plt.title('Accuracy Scores for Values of k of k-Nearest-Neighbors')\n",
    "plt.show()"
   ]
  },
  {
   "cell_type": "code",
   "execution_count": 115,
   "id": "d8457a03",
   "metadata": {},
   "outputs": [
    {
     "name": "stdout",
     "output_type": "stream",
     "text": [
      "The prediction accuracy is: 60.87%\n"
     ]
    },
    {
     "data": {
      "text/plain": [
       "Text(0.5, 51.0, 'Predicted label')"
      ]
     },
     "execution_count": 115,
     "metadata": {},
     "output_type": "execute_result"
    },
    {
     "data": {
      "image/png": "[encoded data removed]",
      "text/plain": [
       "<Figure size 576x576 with 2 Axes>"
      ]
     },
     "metadata": {
      "needs_background": "light"
     },
     "output_type": "display_data"
    }
   ],
   "source": [
    "from sklearn.metrics import accuracy_score, confusion_matrix, precision_recall_fscore_support\n",
    "import seaborn as sns\n",
    "# predict the classes of new, unseen data\n",
    "predict = knn.predict(X_test)\n",
    "print(\"The prediction accuracy is: {0:2.2f}{1:s}\".format(knn.score(X_test,y_test)*100,\"%\"))\n",
    "# Creates a confusion matrix\n",
    "cm = confusion_matrix(y_test, predict)\n",
    "# Transform to dataframe for easier plotting\n",
    "cm_df = pd.DataFrame(cm)\n",
    "# plot the confusion matrix\n",
    "plt.figure(figsize=(8,8))\n",
    "ax= sns.heatmap(cm_df, annot=True, fmt='g')\n",
    "bottom, top = ax.get_ylim()\n",
    "ax.set_ylim(bottom + 0.5, top - 0.5)\n",
    "plt.title(\"Decision Tree Accuracy:\" + str(knn.score(X_test,y_test)*100))\n",
    "plt.ylabel('True label')\n",
    "plt.xlabel('Predicted label')"
   ]
  },
  {
   "cell_type": "code",
   "execution_count": 116,
   "id": "410a74ff",
   "metadata": {
    "scrolled": true
   },
   "outputs": [
    {
     "name": "stdout",
     "output_type": "stream",
     "text": [
      "The optimal number of neighbors is 13\n",
      "The optimal score is 0.58\n",
      "[0.54545455 0.72727273 0.36363636 0.54545455 0.63636364 0.7\n",
      " 0.4        0.4        0.6        0.6       ]\n"
     ]
    },
    {
     "data": {
      "image/png": "[encoded data removed]",
      "text/plain": [
       "<Figure size 1080x360 with 1 Axes>"
      ]
     },
     "metadata": {
      "needs_background": "light"
     },
     "output_type": "display_data"
    }
   ],
   "source": [
    "# import library for cross validation scoring\n",
    "from sklearn.model_selection import cross_val_score\n",
    "# empty variable for storing the KNN metrics\n",
    "scores=[]\n",
    "# We try different values of k for the KNN (from k=1 up to k=26)\n",
    "lrange=list(range(1,25))\n",
    "# loop the KNN process\n",
    "for k in lrange:\n",
    " # input the k value and 'distance' measure\n",
    " knn=KNeighborsClassifier(n_neighbors=k, weights='distance', algorithm='auto')\n",
    " # get score for the 10 fold cross validation\n",
    " score = cross_val_score(knn, X_train, y_train, cv=10, scoring='accuracy')\n",
    " scores.append(score.mean())\n",
    "optimal_k = lrange[scores.index(max(scores))]\n",
    "\n",
    "print(\"The optimal number of neighbors is %d\" % optimal_k)\n",
    "print(\"The optimal score is %.2f\" % max(scores))\n",
    "plt.figure(2,figsize=(15,5))\n",
    "print(score)\n",
    "# plot the results\n",
    "plt.plot(lrange, scores,ls='dashed')\n",
    "plt.xlabel('Value of k for KNN')\n",
    "plt.ylabel('Accuracy Score')\n",
    "plt.title('Accuracy Scores for Values of k of k-Nearest-Neighbors')\n",
    "plt.show()"
   ]
  },
  {
   "cell_type": "markdown",
   "id": "e35e3b9a",
   "metadata": {},
   "source": [
    "Q1: refer to the data understanding \n",
    "\n",
    "After checking the null_value, there's no empty or null in any of the attributes. If there's any, there're few approaches.\n",
    "\n",
    "Approach 1: deleting rows \n",
    "1. df.dropna()\n",
    "Pro: complete removal of data with missing values results in robust and highly accurate model \n",
    "Con: works poorly if the percentage of missing values is high, says 30%\n",
    "\n",
    "Approach 2: replacing null values with mean,median,mode \n",
    "1. df['x']. finllna(df['x'].median(),inplace= True) \n",
    "2. df['x'].fillna(df.groupby(['a','b'])['x'].transform('mean'))\n",
    "Pro: prevent data loss which results in removals of the rows and columns \n",
    "Con: Imputing the approximations add variance and bias, works poorly compared to other multi-imputations method  "
   ]
  },
  {
   "cell_type": "markdown",
   "id": "f4617b3d",
   "metadata": {},
   "source": [
    "Q2:\n",
    "1. Tuning the hyperparameter of K number in the range of 25, the accuracy varies across the value of K. Yes, higher values of K leads to better performance if compared to the default K number = 1. Higher values of K is only up to certain extent of accuracy, beyond that, it does'nt helps much in the accuracy of the test data in overall.\n",
    "\n",
    "2. Yes, cross-validation affects the KNN performance. The purpose of cross-validation is to increase the generalization of the model, says testing on the unseen data by shuffling the dataset randomly. The optimal neighbours number = 13 after performing cross-validation as compared to optimal K number = 16. "
   ]
  },
  {
   "cell_type": "code",
   "execution_count": null,
   "id": "0e341142",
   "metadata": {},
   "outputs": [],
   "source": []
  },
  {
   "cell_type": "code",
   "execution_count": null,
   "id": "5c038fbc",
   "metadata": {},
   "outputs": [],
   "source": []
  }
 ],
 "metadata": {
  "kernelspec": {
   "display_name": "Python 3 (ipykernel)",
   "language": "python",
   "name": "python3"
  },
  "language_info": {
   "codemirror_mode": {
    "name": "ipython",
    "version": 3
   },
   "file_extension": ".py",
   "mimetype": "text/x-python",
   "name": "python",
   "nbconvert_exporter": "python",
   "pygments_lexer": "ipython3",
   "version": "3.9.7"
  }
 },
 "nbformat": 4,
 "nbformat_minor": 5
}
