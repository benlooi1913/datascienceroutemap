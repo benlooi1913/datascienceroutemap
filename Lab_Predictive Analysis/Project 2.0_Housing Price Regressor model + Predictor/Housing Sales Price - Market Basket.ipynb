{
 "cells": [
  {
   "cell_type": "markdown",
   "id": "fdb26e3e",
   "metadata": {},
   "source": [
    "https://www.kaggle.com/datasets/anthonypino/melbourne-housing-market?select=Melbourne_housing_FULL.csv\n",
    "\n",
    "Recommender system \n",
    "Discretized price - explicit/ implicit feedback in the scale of 1-5, 1-least expensive- 5-most expensive\n",
    "User - SellerG\n",
    "Item - Address\n",
    "\n",
    "\tColumn_names\tDescription\n",
    "0\tSuburb\tSuburb\n",
    "1\tAddress\tAddress\n",
    "2\tRooms\tNumber of rooms\n",
    "3\tType\tType br - bedroom(s); h - house,cottage,villa, semi,terrace; u - unit, duplex; t - townhouse; dev site - development site; o res - other residential.\n",
    "4\tPrice\tPrice in Australian dollars\n",
    "5\tMethod\tMethod: S - property sold; SP - property sold prior; PI - property passed in; PN - sold prior not disclosed; SN - sold not disclosed; NB - no bid; VB - vendor bid; W - withdrawn prior to auction; SA - sold after auction; SS - sold after auction price not ...\n",
    "6\tSellerG\tReal Estate Agent\n",
    "7\tDate\tDate sold\n",
    "8\tDistance\tDistance from CBD in Kilometres\n",
    "9\tPostcode\tPostcode\n",
    "10\tBedroom2\tScraped # of Bedrooms (from different source)\n",
    "11\tBathroom\tNumber of Bathrooms\n",
    "12\tCar\tNumber of carspots\n",
    "13\tLandsize\tLand Size in Metres\n",
    "14\tBuildingArea\tBuilding Size in Metres\n",
    "15\tYearBuilt\tYear the house was built\n",
    "16\tCouncilArea\tGoverning council for the area\n",
    "17\tLattitude\tLattitude\n",
    "18\tLongtitude\tLongtitude\n",
    "19\tRegionname\tGeneral Region (West, North West, North, North east …etc)\n",
    "20\tPropertycount\tNumber of properties that exist in the suburb.\n"
   ]
  },
  {
   "cell_type": "code",
   "execution_count": 1,
   "id": "83dca33a",
   "metadata": {},
   "outputs": [],
   "source": [
    "import pandas as pd\n",
    "import numpy as np\n",
    "import seaborn as sns\n",
    "import matplotlib.pyplot as plt\n",
    "import graphviz\n",
    "from scipy.stats import boxcox\n",
    "from statsmodels.stats.outliers_influence import variance_inflation_factor\n",
    "import statsmodels.stats.api as sms\n",
    "import statsmodels.formula.api as smf\n",
    "import statsmodels.graphics.tsaplots as smgt\n",
    "from statsmodels.stats import stattools\n",
    "from sklearn.preprocessing import StandardScaler,Normalizer,LabelEncoder,PolynomialFeatures,MinMaxScaler\n",
    "from sklearn.model_selection import train_test_split,cross_val_score, GridSearchCV,StratifiedKFold,learning_curve,KFold,RandomizedSearchCV\n",
    "from sklearn.linear_model import LinearRegression,Lasso,Ridge,ElasticNet,SGDRegressor\n",
    "from sklearn.tree import DecisionTreeRegressor,export_graphviz\n",
    "from sklearn.svm import LinearSVR\n",
    "from sklearn.feature_selection import SelectFromModel, RFE,SelectPercentile,f_regression,VarianceThreshold\n",
    "from sklearn.model_selection import train_test_split\n",
    "from sklearn.metrics import mean_squared_error,mean_absolute_error\n",
    "from sklearn.decomposition import PCA\n",
    "from sklearn.manifold import TSNE\n",
    "from scipy import stats\n",
    "import warnings\n",
    "warnings.filterwarnings(\"ignore\")\n",
    "%matplotlib inline"
   ]
  },
  {
   "cell_type": "code",
   "execution_count": 2,
   "id": "27a0d525",
   "metadata": {},
   "outputs": [],
   "source": [
    "df= pd.read_csv('Melbourne_housing_FULL.csv')"
   ]
  },
  {
   "cell_type": "code",
   "execution_count": 3,
   "id": "28fd3a84",
   "metadata": {},
   "outputs": [
    {
     "data": {
      "text/html": [
       "<div>\n",
       "<style scoped>\n",
       "    .dataframe tbody tr th:only-of-type {\n",
       "        vertical-align: middle;\n",
       "    }\n",
       "\n",
       "    .dataframe tbody tr th {\n",
       "        vertical-align: top;\n",
       "    }\n",
       "\n",
       "    .dataframe thead th {\n",
       "        text-align: right;\n",
       "    }\n",
       "</style>\n",
       "<table border=\"1\" class=\"dataframe\">\n",
       "  <thead>\n",
       "    <tr style=\"text-align: right;\">\n",
       "      <th></th>\n",
       "      <th>Suburb</th>\n",
       "      <th>Address</th>\n",
       "      <th>Rooms</th>\n",
       "      <th>Type</th>\n",
       "      <th>Price</th>\n",
       "      <th>Method</th>\n",
       "      <th>SellerG</th>\n",
       "      <th>Date</th>\n",
       "      <th>Distance</th>\n",
       "      <th>Postcode</th>\n",
       "      <th>...</th>\n",
       "      <th>Bathroom</th>\n",
       "      <th>Car</th>\n",
       "      <th>Landsize</th>\n",
       "      <th>BuildingArea</th>\n",
       "      <th>YearBuilt</th>\n",
       "      <th>CouncilArea</th>\n",
       "      <th>Lattitude</th>\n",
       "      <th>Longtitude</th>\n",
       "      <th>Regionname</th>\n",
       "      <th>Propertycount</th>\n",
       "    </tr>\n",
       "  </thead>\n",
       "  <tbody>\n",
       "    <tr>\n",
       "      <th>0</th>\n",
       "      <td>Abbotsford</td>\n",
       "      <td>68 Studley St</td>\n",
       "      <td>2</td>\n",
       "      <td>h</td>\n",
       "      <td>NaN</td>\n",
       "      <td>SS</td>\n",
       "      <td>Jellis</td>\n",
       "      <td>3/09/2016</td>\n",
       "      <td>2.5</td>\n",
       "      <td>3067.0</td>\n",
       "      <td>...</td>\n",
       "      <td>1.0</td>\n",
       "      <td>1.0</td>\n",
       "      <td>126.0</td>\n",
       "      <td>NaN</td>\n",
       "      <td>NaN</td>\n",
       "      <td>Yarra City Council</td>\n",
       "      <td>-37.8014</td>\n",
       "      <td>144.9958</td>\n",
       "      <td>Northern Metropolitan</td>\n",
       "      <td>4019.0</td>\n",
       "    </tr>\n",
       "    <tr>\n",
       "      <th>1</th>\n",
       "      <td>Abbotsford</td>\n",
       "      <td>85 Turner St</td>\n",
       "      <td>2</td>\n",
       "      <td>h</td>\n",
       "      <td>1480000.0</td>\n",
       "      <td>S</td>\n",
       "      <td>Biggin</td>\n",
       "      <td>3/12/2016</td>\n",
       "      <td>2.5</td>\n",
       "      <td>3067.0</td>\n",
       "      <td>...</td>\n",
       "      <td>1.0</td>\n",
       "      <td>1.0</td>\n",
       "      <td>202.0</td>\n",
       "      <td>NaN</td>\n",
       "      <td>NaN</td>\n",
       "      <td>Yarra City Council</td>\n",
       "      <td>-37.7996</td>\n",
       "      <td>144.9984</td>\n",
       "      <td>Northern Metropolitan</td>\n",
       "      <td>4019.0</td>\n",
       "    </tr>\n",
       "    <tr>\n",
       "      <th>2</th>\n",
       "      <td>Abbotsford</td>\n",
       "      <td>25 Bloomburg St</td>\n",
       "      <td>2</td>\n",
       "      <td>h</td>\n",
       "      <td>1035000.0</td>\n",
       "      <td>S</td>\n",
       "      <td>Biggin</td>\n",
       "      <td>4/02/2016</td>\n",
       "      <td>2.5</td>\n",
       "      <td>3067.0</td>\n",
       "      <td>...</td>\n",
       "      <td>1.0</td>\n",
       "      <td>0.0</td>\n",
       "      <td>156.0</td>\n",
       "      <td>79.0</td>\n",
       "      <td>1900.0</td>\n",
       "      <td>Yarra City Council</td>\n",
       "      <td>-37.8079</td>\n",
       "      <td>144.9934</td>\n",
       "      <td>Northern Metropolitan</td>\n",
       "      <td>4019.0</td>\n",
       "    </tr>\n",
       "    <tr>\n",
       "      <th>3</th>\n",
       "      <td>Abbotsford</td>\n",
       "      <td>18/659 Victoria St</td>\n",
       "      <td>3</td>\n",
       "      <td>u</td>\n",
       "      <td>NaN</td>\n",
       "      <td>VB</td>\n",
       "      <td>Rounds</td>\n",
       "      <td>4/02/2016</td>\n",
       "      <td>2.5</td>\n",
       "      <td>3067.0</td>\n",
       "      <td>...</td>\n",
       "      <td>2.0</td>\n",
       "      <td>1.0</td>\n",
       "      <td>0.0</td>\n",
       "      <td>NaN</td>\n",
       "      <td>NaN</td>\n",
       "      <td>Yarra City Council</td>\n",
       "      <td>-37.8114</td>\n",
       "      <td>145.0116</td>\n",
       "      <td>Northern Metropolitan</td>\n",
       "      <td>4019.0</td>\n",
       "    </tr>\n",
       "    <tr>\n",
       "      <th>4</th>\n",
       "      <td>Abbotsford</td>\n",
       "      <td>5 Charles St</td>\n",
       "      <td>3</td>\n",
       "      <td>h</td>\n",
       "      <td>1465000.0</td>\n",
       "      <td>SP</td>\n",
       "      <td>Biggin</td>\n",
       "      <td>4/03/2017</td>\n",
       "      <td>2.5</td>\n",
       "      <td>3067.0</td>\n",
       "      <td>...</td>\n",
       "      <td>2.0</td>\n",
       "      <td>0.0</td>\n",
       "      <td>134.0</td>\n",
       "      <td>150.0</td>\n",
       "      <td>1900.0</td>\n",
       "      <td>Yarra City Council</td>\n",
       "      <td>-37.8093</td>\n",
       "      <td>144.9944</td>\n",
       "      <td>Northern Metropolitan</td>\n",
       "      <td>4019.0</td>\n",
       "    </tr>\n",
       "  </tbody>\n",
       "</table>\n",
       "<p>5 rows × 21 columns</p>\n",
       "</div>"
      ],
      "text/plain": [
       "       Suburb             Address  Rooms Type      Price Method SellerG  \\\n",
       "0  Abbotsford       68 Studley St      2    h        NaN     SS  Jellis   \n",
       "1  Abbotsford        85 Turner St      2    h  1480000.0      S  Biggin   \n",
       "2  Abbotsford     25 Bloomburg St      2    h  1035000.0      S  Biggin   \n",
       "3  Abbotsford  18/659 Victoria St      3    u        NaN     VB  Rounds   \n",
       "4  Abbotsford        5 Charles St      3    h  1465000.0     SP  Biggin   \n",
       "\n",
       "        Date  Distance  Postcode  ...  Bathroom  Car  Landsize  BuildingArea  \\\n",
       "0  3/09/2016       2.5    3067.0  ...       1.0  1.0     126.0           NaN   \n",
       "1  3/12/2016       2.5    3067.0  ...       1.0  1.0     202.0           NaN   \n",
       "2  4/02/2016       2.5    3067.0  ...       1.0  0.0     156.0          79.0   \n",
       "3  4/02/2016       2.5    3067.0  ...       2.0  1.0       0.0           NaN   \n",
       "4  4/03/2017       2.5    3067.0  ...       2.0  0.0     134.0         150.0   \n",
       "\n",
       "   YearBuilt         CouncilArea Lattitude  Longtitude             Regionname  \\\n",
       "0        NaN  Yarra City Council  -37.8014    144.9958  Northern Metropolitan   \n",
       "1        NaN  Yarra City Council  -37.7996    144.9984  Northern Metropolitan   \n",
       "2     1900.0  Yarra City Council  -37.8079    144.9934  Northern Metropolitan   \n",
       "3        NaN  Yarra City Council  -37.8114    145.0116  Northern Metropolitan   \n",
       "4     1900.0  Yarra City Council  -37.8093    144.9944  Northern Metropolitan   \n",
       "\n",
       "  Propertycount  \n",
       "0        4019.0  \n",
       "1        4019.0  \n",
       "2        4019.0  \n",
       "3        4019.0  \n",
       "4        4019.0  \n",
       "\n",
       "[5 rows x 21 columns]"
      ]
     },
     "execution_count": 3,
     "metadata": {},
     "output_type": "execute_result"
    }
   ],
   "source": [
    "df.head(5)"
   ]
  },
  {
   "cell_type": "code",
   "execution_count": 5,
   "id": "732ba781",
   "metadata": {},
   "outputs": [],
   "source": [
    "df['Quantity'] = 1 "
   ]
  },
  {
   "cell_type": "code",
   "execution_count": 6,
   "id": "462ecbfc",
   "metadata": {},
   "outputs": [],
   "source": [
    "#Remove those redundant attributes \n",
    "#df.drop(['Address','Date','Postcode','YearBuilt','Lattitude','Longtitude'],axis=1,inplace=True)"
   ]
  },
  {
   "cell_type": "code",
   "execution_count": 7,
   "id": "b8a758d3",
   "metadata": {},
   "outputs": [
    {
     "data": {
      "text/html": [
       "<div>\n",
       "<style scoped>\n",
       "    .dataframe tbody tr th:only-of-type {\n",
       "        vertical-align: middle;\n",
       "    }\n",
       "\n",
       "    .dataframe tbody tr th {\n",
       "        vertical-align: top;\n",
       "    }\n",
       "\n",
       "    .dataframe thead th {\n",
       "        text-align: right;\n",
       "    }\n",
       "</style>\n",
       "<table border=\"1\" class=\"dataframe\">\n",
       "  <thead>\n",
       "    <tr style=\"text-align: right;\">\n",
       "      <th></th>\n",
       "      <th>count</th>\n",
       "      <th>mean</th>\n",
       "      <th>std</th>\n",
       "      <th>min</th>\n",
       "      <th>25%</th>\n",
       "      <th>50%</th>\n",
       "      <th>75%</th>\n",
       "      <th>max</th>\n",
       "    </tr>\n",
       "  </thead>\n",
       "  <tbody>\n",
       "    <tr>\n",
       "      <th>Rooms</th>\n",
       "      <td>34857.0</td>\n",
       "      <td>3.031012e+00</td>\n",
       "      <td>0.969933</td>\n",
       "      <td>1.00000</td>\n",
       "      <td>2.00000</td>\n",
       "      <td>3.0000</td>\n",
       "      <td>4.000000e+00</td>\n",
       "      <td>1.600000e+01</td>\n",
       "    </tr>\n",
       "    <tr>\n",
       "      <th>Price</th>\n",
       "      <td>27247.0</td>\n",
       "      <td>1.050173e+06</td>\n",
       "      <td>641467.130105</td>\n",
       "      <td>85000.00000</td>\n",
       "      <td>635000.00000</td>\n",
       "      <td>870000.0000</td>\n",
       "      <td>1.295000e+06</td>\n",
       "      <td>1.120000e+07</td>\n",
       "    </tr>\n",
       "    <tr>\n",
       "      <th>Distance</th>\n",
       "      <td>34856.0</td>\n",
       "      <td>1.118493e+01</td>\n",
       "      <td>6.788892</td>\n",
       "      <td>0.00000</td>\n",
       "      <td>6.40000</td>\n",
       "      <td>10.3000</td>\n",
       "      <td>1.400000e+01</td>\n",
       "      <td>4.810000e+01</td>\n",
       "    </tr>\n",
       "    <tr>\n",
       "      <th>Postcode</th>\n",
       "      <td>34856.0</td>\n",
       "      <td>3.116063e+03</td>\n",
       "      <td>109.023903</td>\n",
       "      <td>3000.00000</td>\n",
       "      <td>3051.00000</td>\n",
       "      <td>3103.0000</td>\n",
       "      <td>3.156000e+03</td>\n",
       "      <td>3.978000e+03</td>\n",
       "    </tr>\n",
       "    <tr>\n",
       "      <th>Bedroom2</th>\n",
       "      <td>26640.0</td>\n",
       "      <td>3.084647e+00</td>\n",
       "      <td>0.980690</td>\n",
       "      <td>0.00000</td>\n",
       "      <td>2.00000</td>\n",
       "      <td>3.0000</td>\n",
       "      <td>4.000000e+00</td>\n",
       "      <td>3.000000e+01</td>\n",
       "    </tr>\n",
       "    <tr>\n",
       "      <th>Bathroom</th>\n",
       "      <td>26631.0</td>\n",
       "      <td>1.624798e+00</td>\n",
       "      <td>0.724212</td>\n",
       "      <td>0.00000</td>\n",
       "      <td>1.00000</td>\n",
       "      <td>2.0000</td>\n",
       "      <td>2.000000e+00</td>\n",
       "      <td>1.200000e+01</td>\n",
       "    </tr>\n",
       "    <tr>\n",
       "      <th>Car</th>\n",
       "      <td>26129.0</td>\n",
       "      <td>1.728845e+00</td>\n",
       "      <td>1.010771</td>\n",
       "      <td>0.00000</td>\n",
       "      <td>1.00000</td>\n",
       "      <td>2.0000</td>\n",
       "      <td>2.000000e+00</td>\n",
       "      <td>2.600000e+01</td>\n",
       "    </tr>\n",
       "    <tr>\n",
       "      <th>Landsize</th>\n",
       "      <td>23047.0</td>\n",
       "      <td>5.935990e+02</td>\n",
       "      <td>3398.841946</td>\n",
       "      <td>0.00000</td>\n",
       "      <td>224.00000</td>\n",
       "      <td>521.0000</td>\n",
       "      <td>6.700000e+02</td>\n",
       "      <td>4.330140e+05</td>\n",
       "    </tr>\n",
       "    <tr>\n",
       "      <th>BuildingArea</th>\n",
       "      <td>13742.0</td>\n",
       "      <td>1.602564e+02</td>\n",
       "      <td>401.267060</td>\n",
       "      <td>0.00000</td>\n",
       "      <td>102.00000</td>\n",
       "      <td>136.0000</td>\n",
       "      <td>1.880000e+02</td>\n",
       "      <td>4.451500e+04</td>\n",
       "    </tr>\n",
       "    <tr>\n",
       "      <th>YearBuilt</th>\n",
       "      <td>15551.0</td>\n",
       "      <td>1.965290e+03</td>\n",
       "      <td>37.328178</td>\n",
       "      <td>1196.00000</td>\n",
       "      <td>1940.00000</td>\n",
       "      <td>1970.0000</td>\n",
       "      <td>2.000000e+03</td>\n",
       "      <td>2.106000e+03</td>\n",
       "    </tr>\n",
       "    <tr>\n",
       "      <th>Lattitude</th>\n",
       "      <td>26881.0</td>\n",
       "      <td>-3.781063e+01</td>\n",
       "      <td>0.090279</td>\n",
       "      <td>-38.19043</td>\n",
       "      <td>-37.86295</td>\n",
       "      <td>-37.8076</td>\n",
       "      <td>-3.775410e+01</td>\n",
       "      <td>-3.739020e+01</td>\n",
       "    </tr>\n",
       "    <tr>\n",
       "      <th>Longtitude</th>\n",
       "      <td>26881.0</td>\n",
       "      <td>1.450019e+02</td>\n",
       "      <td>0.120169</td>\n",
       "      <td>144.42379</td>\n",
       "      <td>144.93350</td>\n",
       "      <td>145.0078</td>\n",
       "      <td>1.450719e+02</td>\n",
       "      <td>1.455264e+02</td>\n",
       "    </tr>\n",
       "    <tr>\n",
       "      <th>Propertycount</th>\n",
       "      <td>34854.0</td>\n",
       "      <td>7.572888e+03</td>\n",
       "      <td>4428.090313</td>\n",
       "      <td>83.00000</td>\n",
       "      <td>4385.00000</td>\n",
       "      <td>6763.0000</td>\n",
       "      <td>1.041200e+04</td>\n",
       "      <td>2.165000e+04</td>\n",
       "    </tr>\n",
       "    <tr>\n",
       "      <th>Quantity</th>\n",
       "      <td>34857.0</td>\n",
       "      <td>1.000000e+00</td>\n",
       "      <td>0.000000</td>\n",
       "      <td>1.00000</td>\n",
       "      <td>1.00000</td>\n",
       "      <td>1.0000</td>\n",
       "      <td>1.000000e+00</td>\n",
       "      <td>1.000000e+00</td>\n",
       "    </tr>\n",
       "  </tbody>\n",
       "</table>\n",
       "</div>"
      ],
      "text/plain": [
       "                 count          mean            std          min  \\\n",
       "Rooms          34857.0  3.031012e+00       0.969933      1.00000   \n",
       "Price          27247.0  1.050173e+06  641467.130105  85000.00000   \n",
       "Distance       34856.0  1.118493e+01       6.788892      0.00000   \n",
       "Postcode       34856.0  3.116063e+03     109.023903   3000.00000   \n",
       "Bedroom2       26640.0  3.084647e+00       0.980690      0.00000   \n",
       "Bathroom       26631.0  1.624798e+00       0.724212      0.00000   \n",
       "Car            26129.0  1.728845e+00       1.010771      0.00000   \n",
       "Landsize       23047.0  5.935990e+02    3398.841946      0.00000   \n",
       "BuildingArea   13742.0  1.602564e+02     401.267060      0.00000   \n",
       "YearBuilt      15551.0  1.965290e+03      37.328178   1196.00000   \n",
       "Lattitude      26881.0 -3.781063e+01       0.090279    -38.19043   \n",
       "Longtitude     26881.0  1.450019e+02       0.120169    144.42379   \n",
       "Propertycount  34854.0  7.572888e+03    4428.090313     83.00000   \n",
       "Quantity       34857.0  1.000000e+00       0.000000      1.00000   \n",
       "\n",
       "                        25%          50%           75%           max  \n",
       "Rooms               2.00000       3.0000  4.000000e+00  1.600000e+01  \n",
       "Price          635000.00000  870000.0000  1.295000e+06  1.120000e+07  \n",
       "Distance            6.40000      10.3000  1.400000e+01  4.810000e+01  \n",
       "Postcode         3051.00000    3103.0000  3.156000e+03  3.978000e+03  \n",
       "Bedroom2            2.00000       3.0000  4.000000e+00  3.000000e+01  \n",
       "Bathroom            1.00000       2.0000  2.000000e+00  1.200000e+01  \n",
       "Car                 1.00000       2.0000  2.000000e+00  2.600000e+01  \n",
       "Landsize          224.00000     521.0000  6.700000e+02  4.330140e+05  \n",
       "BuildingArea      102.00000     136.0000  1.880000e+02  4.451500e+04  \n",
       "YearBuilt        1940.00000    1970.0000  2.000000e+03  2.106000e+03  \n",
       "Lattitude         -37.86295     -37.8076 -3.775410e+01 -3.739020e+01  \n",
       "Longtitude        144.93350     145.0078  1.450719e+02  1.455264e+02  \n",
       "Propertycount    4385.00000    6763.0000  1.041200e+04  2.165000e+04  \n",
       "Quantity            1.00000       1.0000  1.000000e+00  1.000000e+00  "
      ]
     },
     "execution_count": 7,
     "metadata": {},
     "output_type": "execute_result"
    }
   ],
   "source": [
    "#Continuous features \n",
    "df.describe().T"
   ]
  },
  {
   "cell_type": "code",
   "execution_count": 8,
   "id": "fe473c82",
   "metadata": {},
   "outputs": [
    {
     "name": "stdout",
     "output_type": "stream",
     "text": [
      "<class 'pandas.core.frame.DataFrame'>\n",
      "RangeIndex: 34857 entries, 0 to 34856\n",
      "Data columns (total 22 columns):\n",
      " #   Column         Non-Null Count  Dtype  \n",
      "---  ------         --------------  -----  \n",
      " 0   Suburb         34857 non-null  object \n",
      " 1   Address        34857 non-null  object \n",
      " 2   Rooms          34857 non-null  int64  \n",
      " 3   Type           34857 non-null  object \n",
      " 4   Price          27247 non-null  float64\n",
      " 5   Method         34857 non-null  object \n",
      " 6   SellerG        34857 non-null  object \n",
      " 7   Date           34857 non-null  object \n",
      " 8   Distance       34856 non-null  float64\n",
      " 9   Postcode       34856 non-null  float64\n",
      " 10  Bedroom2       26640 non-null  float64\n",
      " 11  Bathroom       26631 non-null  float64\n",
      " 12  Car            26129 non-null  float64\n",
      " 13  Landsize       23047 non-null  float64\n",
      " 14  BuildingArea   13742 non-null  float64\n",
      " 15  YearBuilt      15551 non-null  float64\n",
      " 16  CouncilArea    34854 non-null  object \n",
      " 17  Lattitude      26881 non-null  float64\n",
      " 18  Longtitude     26881 non-null  float64\n",
      " 19  Regionname     34854 non-null  object \n",
      " 20  Propertycount  34854 non-null  float64\n",
      " 21  Quantity       34857 non-null  int64  \n",
      "dtypes: float64(12), int64(2), object(8)\n",
      "memory usage: 5.9+ MB\n"
     ]
    }
   ],
   "source": [
    "df.info()"
   ]
  },
  {
   "cell_type": "markdown",
   "id": "941c2bef",
   "metadata": {},
   "source": [
    "Missing values "
   ]
  },
  {
   "cell_type": "code",
   "execution_count": 9,
   "id": "c1986af9",
   "metadata": {},
   "outputs": [
    {
     "data": {
      "text/plain": [
       "Suburb               0\n",
       "Address              0\n",
       "Rooms                0\n",
       "Type                 0\n",
       "Price             7610\n",
       "Method               0\n",
       "SellerG              0\n",
       "Date                 0\n",
       "Distance             1\n",
       "Postcode             1\n",
       "Bedroom2          8217\n",
       "Bathroom          8226\n",
       "Car               8728\n",
       "Landsize         11810\n",
       "BuildingArea     21115\n",
       "YearBuilt        19306\n",
       "CouncilArea          3\n",
       "Lattitude         7976\n",
       "Longtitude        7976\n",
       "Regionname           3\n",
       "Propertycount        3\n",
       "Quantity             0\n",
       "dtype: int64"
      ]
     },
     "execution_count": 9,
     "metadata": {},
     "output_type": "execute_result"
    }
   ],
   "source": [
    "#simplificity, missing values > 40% of the dataset, remove them. Imputing them with mean, mode, median might impose a data skewness\n",
    "df.isnull().sum()"
   ]
  },
  {
   "cell_type": "code",
   "execution_count": 10,
   "id": "c22d2c99",
   "metadata": {},
   "outputs": [],
   "source": [
    "df.dropna(inplace= True)"
   ]
  },
  {
   "cell_type": "code",
   "execution_count": 11,
   "id": "3db68910",
   "metadata": {},
   "outputs": [
    {
     "data": {
      "text/plain": [
       "Suburb           0\n",
       "Address          0\n",
       "Rooms            0\n",
       "Type             0\n",
       "Price            0\n",
       "Method           0\n",
       "SellerG          0\n",
       "Date             0\n",
       "Distance         0\n",
       "Postcode         0\n",
       "Bedroom2         0\n",
       "Bathroom         0\n",
       "Car              0\n",
       "Landsize         0\n",
       "BuildingArea     0\n",
       "YearBuilt        0\n",
       "CouncilArea      0\n",
       "Lattitude        0\n",
       "Longtitude       0\n",
       "Regionname       0\n",
       "Propertycount    0\n",
       "Quantity         0\n",
       "dtype: int64"
      ]
     },
     "execution_count": 11,
     "metadata": {},
     "output_type": "execute_result"
    }
   ],
   "source": [
    "df.isnull().sum()"
   ]
  },
  {
   "cell_type": "code",
   "execution_count": 12,
   "id": "2519bc81",
   "metadata": {},
   "outputs": [
    {
     "name": "stdout",
     "output_type": "stream",
     "text": [
      "<class 'pandas.core.frame.DataFrame'>\n",
      "Int64Index: 8887 entries, 2 to 34856\n",
      "Data columns (total 22 columns):\n",
      " #   Column         Non-Null Count  Dtype  \n",
      "---  ------         --------------  -----  \n",
      " 0   Suburb         8887 non-null   object \n",
      " 1   Address        8887 non-null   object \n",
      " 2   Rooms          8887 non-null   int64  \n",
      " 3   Type           8887 non-null   object \n",
      " 4   Price          8887 non-null   float64\n",
      " 5   Method         8887 non-null   object \n",
      " 6   SellerG        8887 non-null   object \n",
      " 7   Date           8887 non-null   object \n",
      " 8   Distance       8887 non-null   float64\n",
      " 9   Postcode       8887 non-null   float64\n",
      " 10  Bedroom2       8887 non-null   float64\n",
      " 11  Bathroom       8887 non-null   float64\n",
      " 12  Car            8887 non-null   float64\n",
      " 13  Landsize       8887 non-null   float64\n",
      " 14  BuildingArea   8887 non-null   float64\n",
      " 15  YearBuilt      8887 non-null   float64\n",
      " 16  CouncilArea    8887 non-null   object \n",
      " 17  Lattitude      8887 non-null   float64\n",
      " 18  Longtitude     8887 non-null   float64\n",
      " 19  Regionname     8887 non-null   object \n",
      " 20  Propertycount  8887 non-null   float64\n",
      " 21  Quantity       8887 non-null   int64  \n",
      "dtypes: float64(12), int64(2), object(8)\n",
      "memory usage: 1.6+ MB\n"
     ]
    }
   ],
   "source": [
    "df.info()"
   ]
  },
  {
   "cell_type": "code",
   "execution_count": 15,
   "id": "64f89247",
   "metadata": {},
   "outputs": [
    {
     "data": {
      "text/html": [
       "<div>\n",
       "<style scoped>\n",
       "    .dataframe tbody tr th:only-of-type {\n",
       "        vertical-align: middle;\n",
       "    }\n",
       "\n",
       "    .dataframe tbody tr th {\n",
       "        vertical-align: top;\n",
       "    }\n",
       "\n",
       "    .dataframe thead th {\n",
       "        text-align: right;\n",
       "    }\n",
       "</style>\n",
       "<table border=\"1\" class=\"dataframe\">\n",
       "  <thead>\n",
       "    <tr style=\"text-align: right;\">\n",
       "      <th></th>\n",
       "      <th></th>\n",
       "      <th>Price_visualization</th>\n",
       "    </tr>\n",
       "    <tr>\n",
       "      <th>SellerG</th>\n",
       "      <th>Regionname</th>\n",
       "      <th></th>\n",
       "    </tr>\n",
       "  </thead>\n",
       "  <tbody>\n",
       "    <tr>\n",
       "      <th rowspan=\"2\" valign=\"top\">@Realty</th>\n",
       "      <th>Eastern Metropolitan</th>\n",
       "      <td>1650000.0</td>\n",
       "    </tr>\n",
       "    <tr>\n",
       "      <th>Northern Metropolitan</th>\n",
       "      <td>1709000.0</td>\n",
       "    </tr>\n",
       "    <tr>\n",
       "      <th rowspan=\"2\" valign=\"top\">Abercromby's</th>\n",
       "      <th>Northern Metropolitan</th>\n",
       "      <td>2655000.0</td>\n",
       "    </tr>\n",
       "    <tr>\n",
       "      <th>Southern Metropolitan</th>\n",
       "      <td>26124000.0</td>\n",
       "    </tr>\n",
       "    <tr>\n",
       "      <th>Ace</th>\n",
       "      <th>Western Metropolitan</th>\n",
       "      <td>600000.0</td>\n",
       "    </tr>\n",
       "  </tbody>\n",
       "</table>\n",
       "</div>"
      ],
      "text/plain": [
       "                                    Price_visualization\n",
       "SellerG      Regionname                                \n",
       "@Realty      Eastern Metropolitan             1650000.0\n",
       "             Northern Metropolitan            1709000.0\n",
       "Abercromby's Northern Metropolitan            2655000.0\n",
       "             Southern Metropolitan           26124000.0\n",
       "Ace          Western Metropolitan              600000.0"
      ]
     },
     "execution_count": 15,
     "metadata": {},
     "output_type": "execute_result"
    }
   ],
   "source": [
    "total_sales = df\n",
    "total_sales['Price_visualization'] = total_sales['Price'] * total_sales['Quantity']\n",
    "total_sales_sellerG_regionname = total_sales.groupby(['SellerG','Regionname']).agg({'Price_visualization':'sum'})\n",
    "total_sales_sellerG_regionname.head()"
   ]
  },
  {
   "cell_type": "code",
   "execution_count": 17,
   "id": "ca6e5629",
   "metadata": {},
   "outputs": [],
   "source": [
    "total_sales_sellerG_regionname.to_csv('market_basket_subset.csv')"
   ]
  },
  {
   "cell_type": "code",
   "execution_count": 20,
   "id": "c8761a91",
   "metadata": {},
   "outputs": [
    {
     "data": {
      "text/html": [
       "<div>\n",
       "<style scoped>\n",
       "    .dataframe tbody tr th:only-of-type {\n",
       "        vertical-align: middle;\n",
       "    }\n",
       "\n",
       "    .dataframe tbody tr th {\n",
       "        vertical-align: top;\n",
       "    }\n",
       "\n",
       "    .dataframe thead th {\n",
       "        text-align: right;\n",
       "    }\n",
       "</style>\n",
       "<table border=\"1\" class=\"dataframe\">\n",
       "  <thead>\n",
       "    <tr style=\"text-align: right;\">\n",
       "      <th></th>\n",
       "      <th>SellerG</th>\n",
       "      <th>Regionname</th>\n",
       "      <th>Price_visualization</th>\n",
       "    </tr>\n",
       "  </thead>\n",
       "  <tbody>\n",
       "    <tr>\n",
       "      <th>231</th>\n",
       "      <td>Marshall</td>\n",
       "      <td>Southern Metropolitan</td>\n",
       "      <td>855409638.0</td>\n",
       "    </tr>\n",
       "    <tr>\n",
       "      <th>185</th>\n",
       "      <td>Jellis</td>\n",
       "      <td>Southern Metropolitan</td>\n",
       "      <td>674933457.0</td>\n",
       "    </tr>\n",
       "    <tr>\n",
       "      <th>269</th>\n",
       "      <td>Nelson</td>\n",
       "      <td>Northern Metropolitan</td>\n",
       "      <td>586830250.0</td>\n",
       "    </tr>\n",
       "    <tr>\n",
       "      <th>55</th>\n",
       "      <td>Buxton</td>\n",
       "      <td>Southern Metropolitan</td>\n",
       "      <td>441067750.0</td>\n",
       "    </tr>\n",
       "    <tr>\n",
       "      <th>443</th>\n",
       "      <td>hockingstuart</td>\n",
       "      <td>Southern Metropolitan</td>\n",
       "      <td>366536698.0</td>\n",
       "    </tr>\n",
       "    <tr>\n",
       "      <th>183</th>\n",
       "      <td>Jellis</td>\n",
       "      <td>Northern Metropolitan</td>\n",
       "      <td>344794341.0</td>\n",
       "    </tr>\n",
       "    <tr>\n",
       "      <th>272</th>\n",
       "      <td>Nelson</td>\n",
       "      <td>Western Metropolitan</td>\n",
       "      <td>343348200.0</td>\n",
       "    </tr>\n",
       "    <tr>\n",
       "      <th>20</th>\n",
       "      <td>Barry</td>\n",
       "      <td>Eastern Metropolitan</td>\n",
       "      <td>206758089.0</td>\n",
       "    </tr>\n",
       "    <tr>\n",
       "      <th>26</th>\n",
       "      <td>Barry</td>\n",
       "      <td>Western Metropolitan</td>\n",
       "      <td>194372200.0</td>\n",
       "    </tr>\n",
       "    <tr>\n",
       "      <th>22</th>\n",
       "      <td>Barry</td>\n",
       "      <td>Northern Metropolitan</td>\n",
       "      <td>172005776.0</td>\n",
       "    </tr>\n",
       "  </tbody>\n",
       "</table>\n",
       "</div>"
      ],
      "text/plain": [
       "           SellerG             Regionname  Price_visualization\n",
       "231       Marshall  Southern Metropolitan          855409638.0\n",
       "185         Jellis  Southern Metropolitan          674933457.0\n",
       "269         Nelson  Northern Metropolitan          586830250.0\n",
       "55          Buxton  Southern Metropolitan          441067750.0\n",
       "443  hockingstuart  Southern Metropolitan          366536698.0\n",
       "183         Jellis  Northern Metropolitan          344794341.0\n",
       "272         Nelson   Western Metropolitan          343348200.0\n",
       "20           Barry   Eastern Metropolitan          206758089.0\n",
       "26           Barry   Western Metropolitan          194372200.0\n",
       "22           Barry  Northern Metropolitan          172005776.0"
      ]
     },
     "execution_count": 20,
     "metadata": {},
     "output_type": "execute_result"
    }
   ],
   "source": [
    "total_sales_sellerG_regionname.reset_index(inplace=True)\n",
    "total_sales_sellerG_regionname.sort_values(by = \"Price_visualization\", ascending = False).head(10)"
   ]
  },
  {
   "cell_type": "markdown",
   "id": "8d7d4b5a",
   "metadata": {},
   "source": [
    "Exploratory Data Analysis (EDA) "
   ]
  },
  {
   "cell_type": "code",
   "execution_count": 30,
   "id": "0b2519db",
   "metadata": {},
   "outputs": [
    {
     "data": {
      "application/vnd.plotly.v1+json": {
       "config": {
        "plotlyServerURL": "https://plot.ly"
       },
       "data": [
        {
         "hovertemplate": "<b>%{hovertext}</b><br><br>Regionname=Southern Metropolitan<br>SellerG=%{x}<br>Price_visualization=%{marker.size}<extra></extra>",
         "hovertext": [
          "Southern Metropolitan",
          "Southern Metropolitan",
          "Southern Metropolitan",
          "Southern Metropolitan",
          "Southern Metropolitan",
          "Southern Metropolitan"
         ],
         "legendgroup": "Southern Metropolitan",
         "marker": {
          "color": "#636efa",
          "size": [
           855409638,
           674933457,
           441067750,
           366536698,
           158408500,
           141522000
          ],
          "sizemode": "area",
          "sizeref": 237613.78833333333,
          "symbol": "circle"
         },
         "mode": "markers",
         "name": "Southern Metropolitan",
         "orientation": "v",
         "showlegend": true,
         "type": "scatter",
         "x": [
          "Marshall",
          "Jellis",
          "Buxton",
          "hockingstuart",
          "Fletchers",
          "Kay"
         ],
         "xaxis": "x",
         "y": [
          855409638,
          674933457,
          441067750,
          366536698,
          158408500,
          141522000
         ],
         "yaxis": "y"
        },
        {
         "hovertemplate": "<b>%{hovertext}</b><br><br>Regionname=Northern Metropolitan<br>SellerG=%{x}<br>Price_visualization=%{marker.size}<extra></extra>",
         "hovertext": [
          "Northern Metropolitan",
          "Northern Metropolitan",
          "Northern Metropolitan",
          "Northern Metropolitan"
         ],
         "legendgroup": "Northern Metropolitan",
         "marker": {
          "color": "#EF553B",
          "size": [
           586830250,
           344794341,
           172005776,
           150069250
          ],
          "sizemode": "area",
          "sizeref": 237613.78833333333,
          "symbol": "circle"
         },
         "mode": "markers",
         "name": "Northern Metropolitan",
         "orientation": "v",
         "showlegend": true,
         "type": "scatter",
         "x": [
          "Nelson",
          "Jellis",
          "Barry",
          "Ray"
         ],
         "xaxis": "x",
         "y": [
          586830250,
          344794341,
          172005776,
          150069250
         ],
         "yaxis": "y"
        },
        {
         "hovertemplate": "<b>%{hovertext}</b><br><br>Regionname=Western Metropolitan<br>SellerG=%{x}<br>Price_visualization=%{marker.size}<extra></extra>",
         "hovertext": [
          "Western Metropolitan",
          "Western Metropolitan",
          "Western Metropolitan"
         ],
         "legendgroup": "Western Metropolitan",
         "marker": {
          "color": "#00cc96",
          "size": [
           343348200,
           194372200,
           147775600
          ],
          "sizemode": "area",
          "sizeref": 237613.78833333333,
          "symbol": "circle"
         },
         "mode": "markers",
         "name": "Western Metropolitan",
         "orientation": "v",
         "showlegend": true,
         "type": "scatter",
         "x": [
          "Nelson",
          "Barry",
          "Jas"
         ],
         "xaxis": "x",
         "y": [
          343348200,
          194372200,
          147775600
         ],
         "yaxis": "y"
        },
        {
         "hovertemplate": "<b>%{hovertext}</b><br><br>Regionname=Eastern Metropolitan<br>SellerG=%{x}<br>Price_visualization=%{marker.size}<extra></extra>",
         "hovertext": [
          "Eastern Metropolitan",
          "Eastern Metropolitan"
         ],
         "legendgroup": "Eastern Metropolitan",
         "marker": {
          "color": "#ab63fa",
          "size": [
           206758089,
           165196266
          ],
          "sizemode": "area",
          "sizeref": 237613.78833333333,
          "symbol": "circle"
         },
         "mode": "markers",
         "name": "Eastern Metropolitan",
         "orientation": "v",
         "showlegend": true,
         "type": "scatter",
         "x": [
          "Barry",
          "Jellis"
         ],
         "xaxis": "x",
         "y": [
          206758089,
          165196266
         ],
         "yaxis": "y"
        }
       ],
       "layout": {
        "legend": {
         "itemsizing": "constant",
         "title": {
          "text": "Regionname"
         },
         "tracegroupgap": 0
        },
        "template": {
         "data": {
          "bar": [
           {
            "error_x": {
             "color": "#2a3f5f"
            },
            "error_y": {
             "color": "#2a3f5f"
            },
            "marker": {
             "line": {
              "color": "#E5ECF6",
              "width": 0.5
             },
             "pattern": {
              "fillmode": "overlay",
              "size": 10,
              "solidity": 0.2
             }
            },
            "type": "bar"
           }
          ],
          "barpolar": [
           {
            "marker": {
             "line": {
              "color": "#E5ECF6",
              "width": 0.5
             },
             "pattern": {
              "fillmode": "overlay",
              "size": 10,
              "solidity": 0.2
             }
            },
            "type": "barpolar"
           }
          ],
          "carpet": [
           {
            "aaxis": {
             "endlinecolor": "#2a3f5f",
             "gridcolor": "white",
             "linecolor": "white",
             "minorgridcolor": "white",
             "startlinecolor": "#2a3f5f"
            },
            "baxis": {
             "endlinecolor": "#2a3f5f",
             "gridcolor": "white",
             "linecolor": "white",
             "minorgridcolor": "white",
             "startlinecolor": "#2a3f5f"
            },
            "type": "carpet"
           }
          ],
          "choropleth": [
           {
            "colorbar": {
             "outlinewidth": 0,
             "ticks": ""
            },
            "type": "choropleth"
           }
          ],
          "contour": [
           {
            "colorbar": {
             "outlinewidth": 0,
             "ticks": ""
            },
            "colorscale": [
             [
              0,
              "#0d0887"
             ],
             [
              0.1111111111111111,
              "#46039f"
             ],
             [
              0.2222222222222222,
              "#7201a8"
             ],
             [
              0.3333333333333333,
              "#9c179e"
             ],
             [
              0.4444444444444444,
              "#bd3786"
             ],
             [
              0.5555555555555556,
              "#d8576b"
             ],
             [
              0.6666666666666666,
              "#ed7953"
             ],
             [
              0.7777777777777778,
              "#fb9f3a"
             ],
             [
              0.8888888888888888,
              "#fdca26"
             ],
             [
              1,
              "#f0f921"
             ]
            ],
            "type": "contour"
           }
          ],
          "contourcarpet": [
           {
            "colorbar": {
             "outlinewidth": 0,
             "ticks": ""
            },
            "type": "contourcarpet"
           }
          ],
          "heatmap": [
           {
            "colorbar": {
             "outlinewidth": 0,
             "ticks": ""
            },
            "colorscale": [
             [
              0,
              "#0d0887"
             ],
             [
              0.1111111111111111,
              "#46039f"
             ],
             [
              0.2222222222222222,
              "#7201a8"
             ],
             [
              0.3333333333333333,
              "#9c179e"
             ],
             [
              0.4444444444444444,
              "#bd3786"
             ],
             [
              0.5555555555555556,
              "#d8576b"
             ],
             [
              0.6666666666666666,
              "#ed7953"
             ],
             [
              0.7777777777777778,
              "#fb9f3a"
             ],
             [
              0.8888888888888888,
              "#fdca26"
             ],
             [
              1,
              "#f0f921"
             ]
            ],
            "type": "heatmap"
           }
          ],
          "heatmapgl": [
           {
            "colorbar": {
             "outlinewidth": 0,
             "ticks": ""
            },
            "colorscale": [
             [
              0,
              "#0d0887"
             ],
             [
              0.1111111111111111,
              "#46039f"
             ],
             [
              0.2222222222222222,
              "#7201a8"
             ],
             [
              0.3333333333333333,
              "#9c179e"
             ],
             [
              0.4444444444444444,
              "#bd3786"
             ],
             [
              0.5555555555555556,
              "#d8576b"
             ],
             [
              0.6666666666666666,
              "#ed7953"
             ],
             [
              0.7777777777777778,
              "#fb9f3a"
             ],
             [
              0.8888888888888888,
              "#fdca26"
             ],
             [
              1,
              "#f0f921"
             ]
            ],
            "type": "heatmapgl"
           }
          ],
          "histogram": [
           {
            "marker": {
             "pattern": {
              "fillmode": "overlay",
              "size": 10,
              "solidity": 0.2
             }
            },
            "type": "histogram"
           }
          ],
          "histogram2d": [
           {
            "colorbar": {
             "outlinewidth": 0,
             "ticks": ""
            },
            "colorscale": [
             [
              0,
              "#0d0887"
             ],
             [
              0.1111111111111111,
              "#46039f"
             ],
             [
              0.2222222222222222,
              "#7201a8"
             ],
             [
              0.3333333333333333,
              "#9c179e"
             ],
             [
              0.4444444444444444,
              "#bd3786"
             ],
             [
              0.5555555555555556,
              "#d8576b"
             ],
             [
              0.6666666666666666,
              "#ed7953"
             ],
             [
              0.7777777777777778,
              "#fb9f3a"
             ],
             [
              0.8888888888888888,
              "#fdca26"
             ],
             [
              1,
              "#f0f921"
             ]
            ],
            "type": "histogram2d"
           }
          ],
          "histogram2dcontour": [
           {
            "colorbar": {
             "outlinewidth": 0,
             "ticks": ""
            },
            "colorscale": [
             [
              0,
              "#0d0887"
             ],
             [
              0.1111111111111111,
              "#46039f"
             ],
             [
              0.2222222222222222,
              "#7201a8"
             ],
             [
              0.3333333333333333,
              "#9c179e"
             ],
             [
              0.4444444444444444,
              "#bd3786"
             ],
             [
              0.5555555555555556,
              "#d8576b"
             ],
             [
              0.6666666666666666,
              "#ed7953"
             ],
             [
              0.7777777777777778,
              "#fb9f3a"
             ],
             [
              0.8888888888888888,
              "#fdca26"
             ],
             [
              1,
              "#f0f921"
             ]
            ],
            "type": "histogram2dcontour"
           }
          ],
          "mesh3d": [
           {
            "colorbar": {
             "outlinewidth": 0,
             "ticks": ""
            },
            "type": "mesh3d"
           }
          ],
          "parcoords": [
           {
            "line": {
             "colorbar": {
              "outlinewidth": 0,
              "ticks": ""
             }
            },
            "type": "parcoords"
           }
          ],
          "pie": [
           {
            "automargin": true,
            "type": "pie"
           }
          ],
          "scatter": [
           {
            "fillpattern": {
             "fillmode": "overlay",
             "size": 10,
             "solidity": 0.2
            },
            "type": "scatter"
           }
          ],
          "scatter3d": [
           {
            "line": {
             "colorbar": {
              "outlinewidth": 0,
              "ticks": ""
             }
            },
            "marker": {
             "colorbar": {
              "outlinewidth": 0,
              "ticks": ""
             }
            },
            "type": "scatter3d"
           }
          ],
          "scattercarpet": [
           {
            "marker": {
             "colorbar": {
              "outlinewidth": 0,
              "ticks": ""
             }
            },
            "type": "scattercarpet"
           }
          ],
          "scattergeo": [
           {
            "marker": {
             "colorbar": {
              "outlinewidth": 0,
              "ticks": ""
             }
            },
            "type": "scattergeo"
           }
          ],
          "scattergl": [
           {
            "marker": {
             "colorbar": {
              "outlinewidth": 0,
              "ticks": ""
             }
            },
            "type": "scattergl"
           }
          ],
          "scattermapbox": [
           {
            "marker": {
             "colorbar": {
              "outlinewidth": 0,
              "ticks": ""
             }
            },
            "type": "scattermapbox"
           }
          ],
          "scatterpolar": [
           {
            "marker": {
             "colorbar": {
              "outlinewidth": 0,
              "ticks": ""
             }
            },
            "type": "scatterpolar"
           }
          ],
          "scatterpolargl": [
           {
            "marker": {
             "colorbar": {
              "outlinewidth": 0,
              "ticks": ""
             }
            },
            "type": "scatterpolargl"
           }
          ],
          "scatterternary": [
           {
            "marker": {
             "colorbar": {
              "outlinewidth": 0,
              "ticks": ""
             }
            },
            "type": "scatterternary"
           }
          ],
          "surface": [
           {
            "colorbar": {
             "outlinewidth": 0,
             "ticks": ""
            },
            "colorscale": [
             [
              0,
              "#0d0887"
             ],
             [
              0.1111111111111111,
              "#46039f"
             ],
             [
              0.2222222222222222,
              "#7201a8"
             ],
             [
              0.3333333333333333,
              "#9c179e"
             ],
             [
              0.4444444444444444,
              "#bd3786"
             ],
             [
              0.5555555555555556,
              "#d8576b"
             ],
             [
              0.6666666666666666,
              "#ed7953"
             ],
             [
              0.7777777777777778,
              "#fb9f3a"
             ],
             [
              0.8888888888888888,
              "#fdca26"
             ],
             [
              1,
              "#f0f921"
             ]
            ],
            "type": "surface"
           }
          ],
          "table": [
           {
            "cells": {
             "fill": {
              "color": "#EBF0F8"
             },
             "line": {
              "color": "white"
             }
            },
            "header": {
             "fill": {
              "color": "#C8D4E3"
             },
             "line": {
              "color": "white"
             }
            },
            "type": "table"
           }
          ]
         },
         "layout": {
          "annotationdefaults": {
           "arrowcolor": "#2a3f5f",
           "arrowhead": 0,
           "arrowwidth": 1
          },
          "autotypenumbers": "strict",
          "coloraxis": {
           "colorbar": {
            "outlinewidth": 0,
            "ticks": ""
           }
          },
          "colorscale": {
           "diverging": [
            [
             0,
             "#8e0152"
            ],
            [
             0.1,
             "#c51b7d"
            ],
            [
             0.2,
             "#de77ae"
            ],
            [
             0.3,
             "#f1b6da"
            ],
            [
             0.4,
             "#fde0ef"
            ],
            [
             0.5,
             "#f7f7f7"
            ],
            [
             0.6,
             "#e6f5d0"
            ],
            [
             0.7,
             "#b8e186"
            ],
            [
             0.8,
             "#7fbc41"
            ],
            [
             0.9,
             "#4d9221"
            ],
            [
             1,
             "#276419"
            ]
           ],
           "sequential": [
            [
             0,
             "#0d0887"
            ],
            [
             0.1111111111111111,
             "#46039f"
            ],
            [
             0.2222222222222222,
             "#7201a8"
            ],
            [
             0.3333333333333333,
             "#9c179e"
            ],
            [
             0.4444444444444444,
             "#bd3786"
            ],
            [
             0.5555555555555556,
             "#d8576b"
            ],
            [
             0.6666666666666666,
             "#ed7953"
            ],
            [
             0.7777777777777778,
             "#fb9f3a"
            ],
            [
             0.8888888888888888,
             "#fdca26"
            ],
            [
             1,
             "#f0f921"
            ]
           ],
           "sequentialminus": [
            [
             0,
             "#0d0887"
            ],
            [
             0.1111111111111111,
             "#46039f"
            ],
            [
             0.2222222222222222,
             "#7201a8"
            ],
            [
             0.3333333333333333,
             "#9c179e"
            ],
            [
             0.4444444444444444,
             "#bd3786"
            ],
            [
             0.5555555555555556,
             "#d8576b"
            ],
            [
             0.6666666666666666,
             "#ed7953"
            ],
            [
             0.7777777777777778,
             "#fb9f3a"
            ],
            [
             0.8888888888888888,
             "#fdca26"
            ],
            [
             1,
             "#f0f921"
            ]
           ]
          },
          "colorway": [
           "#636efa",
           "#EF553B",
           "#00cc96",
           "#ab63fa",
           "#FFA15A",
           "#19d3f3",
           "#FF6692",
           "#B6E880",
           "#FF97FF",
           "#FECB52"
          ],
          "font": {
           "color": "#2a3f5f"
          },
          "geo": {
           "bgcolor": "white",
           "lakecolor": "white",
           "landcolor": "#E5ECF6",
           "showlakes": true,
           "showland": true,
           "subunitcolor": "white"
          },
          "hoverlabel": {
           "align": "left"
          },
          "hovermode": "closest",
          "mapbox": {
           "style": "light"
          },
          "paper_bgcolor": "white",
          "plot_bgcolor": "#E5ECF6",
          "polar": {
           "angularaxis": {
            "gridcolor": "white",
            "linecolor": "white",
            "ticks": ""
           },
           "bgcolor": "#E5ECF6",
           "radialaxis": {
            "gridcolor": "white",
            "linecolor": "white",
            "ticks": ""
           }
          },
          "scene": {
           "xaxis": {
            "backgroundcolor": "#E5ECF6",
            "gridcolor": "white",
            "gridwidth": 2,
            "linecolor": "white",
            "showbackground": true,
            "ticks": "",
            "zerolinecolor": "white"
           },
           "yaxis": {
            "backgroundcolor": "#E5ECF6",
            "gridcolor": "white",
            "gridwidth": 2,
            "linecolor": "white",
            "showbackground": true,
            "ticks": "",
            "zerolinecolor": "white"
           },
           "zaxis": {
            "backgroundcolor": "#E5ECF6",
            "gridcolor": "white",
            "gridwidth": 2,
            "linecolor": "white",
            "showbackground": true,
            "ticks": "",
            "zerolinecolor": "white"
           }
          },
          "shapedefaults": {
           "line": {
            "color": "#2a3f5f"
           }
          },
          "ternary": {
           "aaxis": {
            "gridcolor": "white",
            "linecolor": "white",
            "ticks": ""
           },
           "baxis": {
            "gridcolor": "white",
            "linecolor": "white",
            "ticks": ""
           },
           "bgcolor": "#E5ECF6",
           "caxis": {
            "gridcolor": "white",
            "linecolor": "white",
            "ticks": ""
           }
          },
          "title": {
           "x": 0.05
          },
          "xaxis": {
           "automargin": true,
           "gridcolor": "white",
           "linecolor": "white",
           "ticks": "",
           "title": {
            "standoff": 15
           },
           "zerolinecolor": "white",
           "zerolinewidth": 2
          },
          "yaxis": {
           "automargin": true,
           "gridcolor": "white",
           "linecolor": "white",
           "ticks": "",
           "title": {
            "standoff": 15
           },
           "zerolinecolor": "white",
           "zerolinewidth": 2
          }
         }
        },
        "title": {
         "text": "Top 10 SellerG and their Regionname"
        },
        "xaxis": {
         "anchor": "y",
         "domain": [
          0,
          1
         ],
         "title": {
          "text": "SellerG"
         }
        },
        "yaxis": {
         "anchor": "x",
         "domain": [
          0,
          1
         ],
         "title": {
          "text": "Price_visualization"
         }
        }
       }
      },
      "text/html": [
       "<div>                            <div id=\"83b11a80-e298-4e13-a317-58c407323bb0\" class=\"plotly-graph-div\" style=\"height:525px; width:100%;\"></div>            <script type=\"text/javascript\">                require([\"plotly\"], function(Plotly) {                    window.PLOTLYENV=window.PLOTLYENV || {};                                    if (document.getElementById(\"83b11a80-e298-4e13-a317-58c407323bb0\")) {                    Plotly.newPlot(                        \"83b11a80-e298-4e13-a317-58c407323bb0\",                        [{\"hovertemplate\":\"<b>%{hovertext}</b><br><br>Regionname=Southern Metropolitan<br>SellerG=%{x}<br>Price_visualization=%{marker.size}<extra></extra>\",\"hovertext\":[\"Southern Metropolitan\",\"Southern Metropolitan\",\"Southern Metropolitan\",\"Southern Metropolitan\",\"Southern Metropolitan\",\"Southern Metropolitan\"],\"legendgroup\":\"Southern Metropolitan\",\"marker\":{\"color\":\"#636efa\",\"size\":[855409638.0,674933457.0,441067750.0,366536698.0,158408500.0,141522000.0],\"sizemode\":\"area\",\"sizeref\":237613.78833333333,\"symbol\":\"circle\"},\"mode\":\"markers\",\"name\":\"Southern Metropolitan\",\"orientation\":\"v\",\"showlegend\":true,\"x\":[\"Marshall\",\"Jellis\",\"Buxton\",\"hockingstuart\",\"Fletchers\",\"Kay\"],\"xaxis\":\"x\",\"y\":[855409638.0,674933457.0,441067750.0,366536698.0,158408500.0,141522000.0],\"yaxis\":\"y\",\"type\":\"scatter\"},{\"hovertemplate\":\"<b>%{hovertext}</b><br><br>Regionname=Northern Metropolitan<br>SellerG=%{x}<br>Price_visualization=%{marker.size}<extra></extra>\",\"hovertext\":[\"Northern Metropolitan\",\"Northern Metropolitan\",\"Northern Metropolitan\",\"Northern Metropolitan\"],\"legendgroup\":\"Northern Metropolitan\",\"marker\":{\"color\":\"#EF553B\",\"size\":[586830250.0,344794341.0,172005776.0,150069250.0],\"sizemode\":\"area\",\"sizeref\":237613.78833333333,\"symbol\":\"circle\"},\"mode\":\"markers\",\"name\":\"Northern Metropolitan\",\"orientation\":\"v\",\"showlegend\":true,\"x\":[\"Nelson\",\"Jellis\",\"Barry\",\"Ray\"],\"xaxis\":\"x\",\"y\":[586830250.0,344794341.0,172005776.0,150069250.0],\"yaxis\":\"y\",\"type\":\"scatter\"},{\"hovertemplate\":\"<b>%{hovertext}</b><br><br>Regionname=Western Metropolitan<br>SellerG=%{x}<br>Price_visualization=%{marker.size}<extra></extra>\",\"hovertext\":[\"Western Metropolitan\",\"Western Metropolitan\",\"Western Metropolitan\"],\"legendgroup\":\"Western Metropolitan\",\"marker\":{\"color\":\"#00cc96\",\"size\":[343348200.0,194372200.0,147775600.0],\"sizemode\":\"area\",\"sizeref\":237613.78833333333,\"symbol\":\"circle\"},\"mode\":\"markers\",\"name\":\"Western Metropolitan\",\"orientation\":\"v\",\"showlegend\":true,\"x\":[\"Nelson\",\"Barry\",\"Jas\"],\"xaxis\":\"x\",\"y\":[343348200.0,194372200.0,147775600.0],\"yaxis\":\"y\",\"type\":\"scatter\"},{\"hovertemplate\":\"<b>%{hovertext}</b><br><br>Regionname=Eastern Metropolitan<br>SellerG=%{x}<br>Price_visualization=%{marker.size}<extra></extra>\",\"hovertext\":[\"Eastern Metropolitan\",\"Eastern Metropolitan\"],\"legendgroup\":\"Eastern Metropolitan\",\"marker\":{\"color\":\"#ab63fa\",\"size\":[206758089.0,165196266.0],\"sizemode\":\"area\",\"sizeref\":237613.78833333333,\"symbol\":\"circle\"},\"mode\":\"markers\",\"name\":\"Eastern Metropolitan\",\"orientation\":\"v\",\"showlegend\":true,\"x\":[\"Barry\",\"Jellis\"],\"xaxis\":\"x\",\"y\":[206758089.0,165196266.0],\"yaxis\":\"y\",\"type\":\"scatter\"}],                        {\"template\":{\"data\":{\"histogram2dcontour\":[{\"type\":\"histogram2dcontour\",\"colorbar\":{\"outlinewidth\":0,\"ticks\":\"\"},\"colorscale\":[[0.0,\"#0d0887\"],[0.1111111111111111,\"#46039f\"],[0.2222222222222222,\"#7201a8\"],[0.3333333333333333,\"#9c179e\"],[0.4444444444444444,\"#bd3786\"],[0.5555555555555556,\"#d8576b\"],[0.6666666666666666,\"#ed7953\"],[0.7777777777777778,\"#fb9f3a\"],[0.8888888888888888,\"#fdca26\"],[1.0,\"#f0f921\"]]}],\"choropleth\":[{\"type\":\"choropleth\",\"colorbar\":{\"outlinewidth\":0,\"ticks\":\"\"}}],\"histogram2d\":[{\"type\":\"histogram2d\",\"colorbar\":{\"outlinewidth\":0,\"ticks\":\"\"},\"colorscale\":[[0.0,\"#0d0887\"],[0.1111111111111111,\"#46039f\"],[0.2222222222222222,\"#7201a8\"],[0.3333333333333333,\"#9c179e\"],[0.4444444444444444,\"#bd3786\"],[0.5555555555555556,\"#d8576b\"],[0.6666666666666666,\"#ed7953\"],[0.7777777777777778,\"#fb9f3a\"],[0.8888888888888888,\"#fdca26\"],[1.0,\"#f0f921\"]]}],\"heatmap\":[{\"type\":\"heatmap\",\"colorbar\":{\"outlinewidth\":0,\"ticks\":\"\"},\"colorscale\":[[0.0,\"#0d0887\"],[0.1111111111111111,\"#46039f\"],[0.2222222222222222,\"#7201a8\"],[0.3333333333333333,\"#9c179e\"],[0.4444444444444444,\"#bd3786\"],[0.5555555555555556,\"#d8576b\"],[0.6666666666666666,\"#ed7953\"],[0.7777777777777778,\"#fb9f3a\"],[0.8888888888888888,\"#fdca26\"],[1.0,\"#f0f921\"]]}],\"heatmapgl\":[{\"type\":\"heatmapgl\",\"colorbar\":{\"outlinewidth\":0,\"ticks\":\"\"},\"colorscale\":[[0.0,\"#0d0887\"],[0.1111111111111111,\"#46039f\"],[0.2222222222222222,\"#7201a8\"],[0.3333333333333333,\"#9c179e\"],[0.4444444444444444,\"#bd3786\"],[0.5555555555555556,\"#d8576b\"],[0.6666666666666666,\"#ed7953\"],[0.7777777777777778,\"#fb9f3a\"],[0.8888888888888888,\"#fdca26\"],[1.0,\"#f0f921\"]]}],\"contourcarpet\":[{\"type\":\"contourcarpet\",\"colorbar\":{\"outlinewidth\":0,\"ticks\":\"\"}}],\"contour\":[{\"type\":\"contour\",\"colorbar\":{\"outlinewidth\":0,\"ticks\":\"\"},\"colorscale\":[[0.0,\"#0d0887\"],[0.1111111111111111,\"#46039f\"],[0.2222222222222222,\"#7201a8\"],[0.3333333333333333,\"#9c179e\"],[0.4444444444444444,\"#bd3786\"],[0.5555555555555556,\"#d8576b\"],[0.6666666666666666,\"#ed7953\"],[0.7777777777777778,\"#fb9f3a\"],[0.8888888888888888,\"#fdca26\"],[1.0,\"#f0f921\"]]}],\"surface\":[{\"type\":\"surface\",\"colorbar\":{\"outlinewidth\":0,\"ticks\":\"\"},\"colorscale\":[[0.0,\"#0d0887\"],[0.1111111111111111,\"#46039f\"],[0.2222222222222222,\"#7201a8\"],[0.3333333333333333,\"#9c179e\"],[0.4444444444444444,\"#bd3786\"],[0.5555555555555556,\"#d8576b\"],[0.6666666666666666,\"#ed7953\"],[0.7777777777777778,\"#fb9f3a\"],[0.8888888888888888,\"#fdca26\"],[1.0,\"#f0f921\"]]}],\"mesh3d\":[{\"type\":\"mesh3d\",\"colorbar\":{\"outlinewidth\":0,\"ticks\":\"\"}}],\"scatter\":[{\"fillpattern\":{\"fillmode\":\"overlay\",\"size\":10,\"solidity\":0.2},\"type\":\"scatter\"}],\"parcoords\":[{\"type\":\"parcoords\",\"line\":{\"colorbar\":{\"outlinewidth\":0,\"ticks\":\"\"}}}],\"scatterpolargl\":[{\"type\":\"scatterpolargl\",\"marker\":{\"colorbar\":{\"outlinewidth\":0,\"ticks\":\"\"}}}],\"bar\":[{\"error_x\":{\"color\":\"#2a3f5f\"},\"error_y\":{\"color\":\"#2a3f5f\"},\"marker\":{\"line\":{\"color\":\"#E5ECF6\",\"width\":0.5},\"pattern\":{\"fillmode\":\"overlay\",\"size\":10,\"solidity\":0.2}},\"type\":\"bar\"}],\"scattergeo\":[{\"type\":\"scattergeo\",\"marker\":{\"colorbar\":{\"outlinewidth\":0,\"ticks\":\"\"}}}],\"scatterpolar\":[{\"type\":\"scatterpolar\",\"marker\":{\"colorbar\":{\"outlinewidth\":0,\"ticks\":\"\"}}}],\"histogram\":[{\"marker\":{\"pattern\":{\"fillmode\":\"overlay\",\"size\":10,\"solidity\":0.2}},\"type\":\"histogram\"}],\"scattergl\":[{\"type\":\"scattergl\",\"marker\":{\"colorbar\":{\"outlinewidth\":0,\"ticks\":\"\"}}}],\"scatter3d\":[{\"type\":\"scatter3d\",\"line\":{\"colorbar\":{\"outlinewidth\":0,\"ticks\":\"\"}},\"marker\":{\"colorbar\":{\"outlinewidth\":0,\"ticks\":\"\"}}}],\"scattermapbox\":[{\"type\":\"scattermapbox\",\"marker\":{\"colorbar\":{\"outlinewidth\":0,\"ticks\":\"\"}}}],\"scatterternary\":[{\"type\":\"scatterternary\",\"marker\":{\"colorbar\":{\"outlinewidth\":0,\"ticks\":\"\"}}}],\"scattercarpet\":[{\"type\":\"scattercarpet\",\"marker\":{\"colorbar\":{\"outlinewidth\":0,\"ticks\":\"\"}}}],\"carpet\":[{\"aaxis\":{\"endlinecolor\":\"#2a3f5f\",\"gridcolor\":\"white\",\"linecolor\":\"white\",\"minorgridcolor\":\"white\",\"startlinecolor\":\"#2a3f5f\"},\"baxis\":{\"endlinecolor\":\"#2a3f5f\",\"gridcolor\":\"white\",\"linecolor\":\"white\",\"minorgridcolor\":\"white\",\"startlinecolor\":\"#2a3f5f\"},\"type\":\"carpet\"}],\"table\":[{\"cells\":{\"fill\":{\"color\":\"#EBF0F8\"},\"line\":{\"color\":\"white\"}},\"header\":{\"fill\":{\"color\":\"#C8D4E3\"},\"line\":{\"color\":\"white\"}},\"type\":\"table\"}],\"barpolar\":[{\"marker\":{\"line\":{\"color\":\"#E5ECF6\",\"width\":0.5},\"pattern\":{\"fillmode\":\"overlay\",\"size\":10,\"solidity\":0.2}},\"type\":\"barpolar\"}],\"pie\":[{\"automargin\":true,\"type\":\"pie\"}]},\"layout\":{\"autotypenumbers\":\"strict\",\"colorway\":[\"#636efa\",\"#EF553B\",\"#00cc96\",\"#ab63fa\",\"#FFA15A\",\"#19d3f3\",\"#FF6692\",\"#B6E880\",\"#FF97FF\",\"#FECB52\"],\"font\":{\"color\":\"#2a3f5f\"},\"hovermode\":\"closest\",\"hoverlabel\":{\"align\":\"left\"},\"paper_bgcolor\":\"white\",\"plot_bgcolor\":\"#E5ECF6\",\"polar\":{\"bgcolor\":\"#E5ECF6\",\"angularaxis\":{\"gridcolor\":\"white\",\"linecolor\":\"white\",\"ticks\":\"\"},\"radialaxis\":{\"gridcolor\":\"white\",\"linecolor\":\"white\",\"ticks\":\"\"}},\"ternary\":{\"bgcolor\":\"#E5ECF6\",\"aaxis\":{\"gridcolor\":\"white\",\"linecolor\":\"white\",\"ticks\":\"\"},\"baxis\":{\"gridcolor\":\"white\",\"linecolor\":\"white\",\"ticks\":\"\"},\"caxis\":{\"gridcolor\":\"white\",\"linecolor\":\"white\",\"ticks\":\"\"}},\"coloraxis\":{\"colorbar\":{\"outlinewidth\":0,\"ticks\":\"\"}},\"colorscale\":{\"sequential\":[[0.0,\"#0d0887\"],[0.1111111111111111,\"#46039f\"],[0.2222222222222222,\"#7201a8\"],[0.3333333333333333,\"#9c179e\"],[0.4444444444444444,\"#bd3786\"],[0.5555555555555556,\"#d8576b\"],[0.6666666666666666,\"#ed7953\"],[0.7777777777777778,\"#fb9f3a\"],[0.8888888888888888,\"#fdca26\"],[1.0,\"#f0f921\"]],\"sequentialminus\":[[0.0,\"#0d0887\"],[0.1111111111111111,\"#46039f\"],[0.2222222222222222,\"#7201a8\"],[0.3333333333333333,\"#9c179e\"],[0.4444444444444444,\"#bd3786\"],[0.5555555555555556,\"#d8576b\"],[0.6666666666666666,\"#ed7953\"],[0.7777777777777778,\"#fb9f3a\"],[0.8888888888888888,\"#fdca26\"],[1.0,\"#f0f921\"]],\"diverging\":[[0,\"#8e0152\"],[0.1,\"#c51b7d\"],[0.2,\"#de77ae\"],[0.3,\"#f1b6da\"],[0.4,\"#fde0ef\"],[0.5,\"#f7f7f7\"],[0.6,\"#e6f5d0\"],[0.7,\"#b8e186\"],[0.8,\"#7fbc41\"],[0.9,\"#4d9221\"],[1,\"#276419\"]]},\"xaxis\":{\"gridcolor\":\"white\",\"linecolor\":\"white\",\"ticks\":\"\",\"title\":{\"standoff\":15},\"zerolinecolor\":\"white\",\"automargin\":true,\"zerolinewidth\":2},\"yaxis\":{\"gridcolor\":\"white\",\"linecolor\":\"white\",\"ticks\":\"\",\"title\":{\"standoff\":15},\"zerolinecolor\":\"white\",\"automargin\":true,\"zerolinewidth\":2},\"scene\":{\"xaxis\":{\"backgroundcolor\":\"#E5ECF6\",\"gridcolor\":\"white\",\"linecolor\":\"white\",\"showbackground\":true,\"ticks\":\"\",\"zerolinecolor\":\"white\",\"gridwidth\":2},\"yaxis\":{\"backgroundcolor\":\"#E5ECF6\",\"gridcolor\":\"white\",\"linecolor\":\"white\",\"showbackground\":true,\"ticks\":\"\",\"zerolinecolor\":\"white\",\"gridwidth\":2},\"zaxis\":{\"backgroundcolor\":\"#E5ECF6\",\"gridcolor\":\"white\",\"linecolor\":\"white\",\"showbackground\":true,\"ticks\":\"\",\"zerolinecolor\":\"white\",\"gridwidth\":2}},\"shapedefaults\":{\"line\":{\"color\":\"#2a3f5f\"}},\"annotationdefaults\":{\"arrowcolor\":\"#2a3f5f\",\"arrowhead\":0,\"arrowwidth\":1},\"geo\":{\"bgcolor\":\"white\",\"landcolor\":\"#E5ECF6\",\"subunitcolor\":\"white\",\"showland\":true,\"showlakes\":true,\"lakecolor\":\"white\"},\"title\":{\"x\":0.05},\"mapbox\":{\"style\":\"light\"}}},\"xaxis\":{\"anchor\":\"y\",\"domain\":[0.0,1.0],\"title\":{\"text\":\"SellerG\"}},\"yaxis\":{\"anchor\":\"x\",\"domain\":[0.0,1.0],\"title\":{\"text\":\"Price_visualization\"}},\"legend\":{\"title\":{\"text\":\"Regionname\"},\"tracegroupgap\":0,\"itemsizing\":\"constant\"},\"title\":{\"text\":\"Top 10 SellerG and their Regionname\"}},                        {\"responsive\": true}                    ).then(function(){\n",
       "                            \n",
       "var gd = document.getElementById('83b11a80-e298-4e13-a317-58c407323bb0');\n",
       "var x = new MutationObserver(function (mutations, observer) {{\n",
       "        var display = window.getComputedStyle(gd).display;\n",
       "        if (!display || display === 'none') {{\n",
       "            console.log([gd, 'removed!']);\n",
       "            Plotly.purge(gd);\n",
       "            observer.disconnect();\n",
       "        }}\n",
       "}});\n",
       "\n",
       "// Listen for the removal of the full notebook cells\n",
       "var notebookContainer = gd.closest('#notebook-container');\n",
       "if (notebookContainer) {{\n",
       "    x.observe(notebookContainer, {childList: true});\n",
       "}}\n",
       "\n",
       "// Listen for the clearing of the current output cell\n",
       "var outputEl = gd.closest('.output');\n",
       "if (outputEl) {{\n",
       "    x.observe(outputEl, {childList: true});\n",
       "}}\n",
       "\n",
       "                        })                };                });            </script>        </div>"
      ]
     },
     "metadata": {},
     "output_type": "display_data"
    }
   ],
   "source": [
    "# consider that for all time period\n",
    "import plotly.express as px\n",
    "data_fig = total_sales_sellerG_regionname.sort_values(by = \"Price_visualization\", ascending = False).head(15)\n",
    "\n",
    "fig = px.scatter(data_fig, x=\"SellerG\", y=\"Price_visualization\",\n",
    "        size=\"Price_visualization\", color=\"Regionname\",\n",
    "        hover_name=\"Regionname\", log_x=False, size_max=60, title=\"Top 10 SellerG and their Regionname\")\n",
    "fig.show()"
   ]
  },
  {
   "cell_type": "markdown",
   "id": "99907a6d",
   "metadata": {},
   "source": [
    "Seller - Regionname Matrix "
   ]
  },
  {
   "cell_type": "code",
   "execution_count": 51,
   "id": "94b69cfd",
   "metadata": {},
   "outputs": [
    {
     "data": {
      "text/html": [
       "<div>\n",
       "<style scoped>\n",
       "    .dataframe tbody tr th:only-of-type {\n",
       "        vertical-align: middle;\n",
       "    }\n",
       "\n",
       "    .dataframe tbody tr th {\n",
       "        vertical-align: top;\n",
       "    }\n",
       "\n",
       "    .dataframe thead th {\n",
       "        text-align: right;\n",
       "    }\n",
       "</style>\n",
       "<table border=\"1\" class=\"dataframe\">\n",
       "  <thead>\n",
       "    <tr style=\"text-align: right;\">\n",
       "      <th>Regionname</th>\n",
       "      <th>Eastern Metropolitan</th>\n",
       "      <th>Eastern Victoria</th>\n",
       "      <th>Northern Metropolitan</th>\n",
       "      <th>Northern Victoria</th>\n",
       "      <th>South-Eastern Metropolitan</th>\n",
       "      <th>Southern Metropolitan</th>\n",
       "      <th>Western Metropolitan</th>\n",
       "      <th>Western Victoria</th>\n",
       "    </tr>\n",
       "    <tr>\n",
       "      <th>SellerG</th>\n",
       "      <th></th>\n",
       "      <th></th>\n",
       "      <th></th>\n",
       "      <th></th>\n",
       "      <th></th>\n",
       "      <th></th>\n",
       "      <th></th>\n",
       "      <th></th>\n",
       "    </tr>\n",
       "  </thead>\n",
       "  <tbody>\n",
       "    <tr>\n",
       "      <th>@Realty</th>\n",
       "      <td>1.0</td>\n",
       "      <td>0.0</td>\n",
       "      <td>3.0</td>\n",
       "      <td>0.0</td>\n",
       "      <td>0.0</td>\n",
       "      <td>0.0</td>\n",
       "      <td>0.0</td>\n",
       "      <td>0.0</td>\n",
       "    </tr>\n",
       "    <tr>\n",
       "      <th>Abercromby's</th>\n",
       "      <td>0.0</td>\n",
       "      <td>0.0</td>\n",
       "      <td>2.0</td>\n",
       "      <td>0.0</td>\n",
       "      <td>0.0</td>\n",
       "      <td>10.0</td>\n",
       "      <td>0.0</td>\n",
       "      <td>0.0</td>\n",
       "    </tr>\n",
       "    <tr>\n",
       "      <th>Ace</th>\n",
       "      <td>0.0</td>\n",
       "      <td>0.0</td>\n",
       "      <td>0.0</td>\n",
       "      <td>0.0</td>\n",
       "      <td>0.0</td>\n",
       "      <td>0.0</td>\n",
       "      <td>1.0</td>\n",
       "      <td>0.0</td>\n",
       "    </tr>\n",
       "    <tr>\n",
       "      <th>Alexkarbon</th>\n",
       "      <td>0.0</td>\n",
       "      <td>0.0</td>\n",
       "      <td>15.0</td>\n",
       "      <td>0.0</td>\n",
       "      <td>0.0</td>\n",
       "      <td>0.0</td>\n",
       "      <td>12.0</td>\n",
       "      <td>0.0</td>\n",
       "    </tr>\n",
       "    <tr>\n",
       "      <th>Allens</th>\n",
       "      <td>1.0</td>\n",
       "      <td>0.0</td>\n",
       "      <td>0.0</td>\n",
       "      <td>0.0</td>\n",
       "      <td>0.0</td>\n",
       "      <td>0.0</td>\n",
       "      <td>0.0</td>\n",
       "      <td>0.0</td>\n",
       "    </tr>\n",
       "    <tr>\n",
       "      <th>Anderson</th>\n",
       "      <td>0.0</td>\n",
       "      <td>0.0</td>\n",
       "      <td>0.0</td>\n",
       "      <td>0.0</td>\n",
       "      <td>0.0</td>\n",
       "      <td>3.0</td>\n",
       "      <td>0.0</td>\n",
       "      <td>0.0</td>\n",
       "    </tr>\n",
       "    <tr>\n",
       "      <th>Appleby</th>\n",
       "      <td>2.0</td>\n",
       "      <td>0.0</td>\n",
       "      <td>0.0</td>\n",
       "      <td>0.0</td>\n",
       "      <td>0.0</td>\n",
       "      <td>0.0</td>\n",
       "      <td>0.0</td>\n",
       "      <td>0.0</td>\n",
       "    </tr>\n",
       "    <tr>\n",
       "      <th>Aquire</th>\n",
       "      <td>0.0</td>\n",
       "      <td>0.0</td>\n",
       "      <td>0.0</td>\n",
       "      <td>0.0</td>\n",
       "      <td>2.0</td>\n",
       "      <td>0.0</td>\n",
       "      <td>0.0</td>\n",
       "      <td>0.0</td>\n",
       "    </tr>\n",
       "    <tr>\n",
       "      <th>Area</th>\n",
       "      <td>0.0</td>\n",
       "      <td>0.0</td>\n",
       "      <td>0.0</td>\n",
       "      <td>0.0</td>\n",
       "      <td>3.0</td>\n",
       "      <td>0.0</td>\n",
       "      <td>0.0</td>\n",
       "      <td>0.0</td>\n",
       "    </tr>\n",
       "    <tr>\n",
       "      <th>Ascend</th>\n",
       "      <td>0.0</td>\n",
       "      <td>0.0</td>\n",
       "      <td>1.0</td>\n",
       "      <td>0.0</td>\n",
       "      <td>0.0</td>\n",
       "      <td>1.0</td>\n",
       "      <td>0.0</td>\n",
       "      <td>0.0</td>\n",
       "    </tr>\n",
       "  </tbody>\n",
       "</table>\n",
       "</div>"
      ],
      "text/plain": [
       "Regionname    Eastern Metropolitan  Eastern Victoria  Northern Metropolitan  \\\n",
       "SellerG                                                                       \n",
       "@Realty                        1.0               0.0                    3.0   \n",
       "Abercromby's                   0.0               0.0                    2.0   \n",
       "Ace                            0.0               0.0                    0.0   \n",
       "Alexkarbon                     0.0               0.0                   15.0   \n",
       "Allens                         1.0               0.0                    0.0   \n",
       "Anderson                       0.0               0.0                    0.0   \n",
       "Appleby                        2.0               0.0                    0.0   \n",
       "Aquire                         0.0               0.0                    0.0   \n",
       "Area                           0.0               0.0                    0.0   \n",
       "Ascend                         0.0               0.0                    1.0   \n",
       "\n",
       "Regionname    Northern Victoria  South-Eastern Metropolitan  \\\n",
       "SellerG                                                       \n",
       "@Realty                     0.0                         0.0   \n",
       "Abercromby's                0.0                         0.0   \n",
       "Ace                         0.0                         0.0   \n",
       "Alexkarbon                  0.0                         0.0   \n",
       "Allens                      0.0                         0.0   \n",
       "Anderson                    0.0                         0.0   \n",
       "Appleby                     0.0                         0.0   \n",
       "Aquire                      0.0                         2.0   \n",
       "Area                        0.0                         3.0   \n",
       "Ascend                      0.0                         0.0   \n",
       "\n",
       "Regionname    Southern Metropolitan  Western Metropolitan  Western Victoria  \n",
       "SellerG                                                                      \n",
       "@Realty                         0.0                   0.0               0.0  \n",
       "Abercromby's                   10.0                   0.0               0.0  \n",
       "Ace                             0.0                   1.0               0.0  \n",
       "Alexkarbon                      0.0                  12.0               0.0  \n",
       "Allens                          0.0                   0.0               0.0  \n",
       "Anderson                        3.0                   0.0               0.0  \n",
       "Appleby                         0.0                   0.0               0.0  \n",
       "Aquire                          0.0                   0.0               0.0  \n",
       "Area                            0.0                   0.0               0.0  \n",
       "Ascend                          1.0                   0.0               0.0  "
      ]
     },
     "execution_count": 51,
     "metadata": {},
     "output_type": "execute_result"
    }
   ],
   "source": [
    "basket = (df.groupby(['SellerG', 'Regionname'])['Quantity']\n",
    "           .sum().unstack().reset_index().fillna(0)\n",
    "           .set_index('SellerG'))\n",
    "basket.head(10)"
   ]
  },
  {
   "cell_type": "code",
   "execution_count": 64,
   "id": "27fd8fe1",
   "metadata": {},
   "outputs": [
    {
     "data": {
      "text/html": [
       "<div>\n",
       "<style scoped>\n",
       "    .dataframe tbody tr th:only-of-type {\n",
       "        vertical-align: middle;\n",
       "    }\n",
       "\n",
       "    .dataframe tbody tr th {\n",
       "        vertical-align: top;\n",
       "    }\n",
       "\n",
       "    .dataframe thead th {\n",
       "        text-align: right;\n",
       "    }\n",
       "</style>\n",
       "<table border=\"1\" class=\"dataframe\">\n",
       "  <thead>\n",
       "    <tr style=\"text-align: right;\">\n",
       "      <th>SellerG</th>\n",
       "      <th>@Realty</th>\n",
       "      <th>Abercromby's</th>\n",
       "      <th>Ace</th>\n",
       "      <th>Alexkarbon</th>\n",
       "      <th>Allens</th>\n",
       "      <th>Anderson</th>\n",
       "      <th>Appleby</th>\n",
       "      <th>Aquire</th>\n",
       "      <th>Area</th>\n",
       "      <th>Ascend</th>\n",
       "      <th>...</th>\n",
       "      <th>buyMyplace</th>\n",
       "      <th>hockingstuart</th>\n",
       "      <th>hockingstuart/Advantage</th>\n",
       "      <th>hockingstuart/Biggin</th>\n",
       "      <th>hockingstuart/Village</th>\n",
       "      <th>hockingstuart/hockingstuart</th>\n",
       "      <th>iOne</th>\n",
       "      <th>iProperty</th>\n",
       "      <th>iSell</th>\n",
       "      <th>iTRAK</th>\n",
       "    </tr>\n",
       "    <tr>\n",
       "      <th>Regionname</th>\n",
       "      <th></th>\n",
       "      <th></th>\n",
       "      <th></th>\n",
       "      <th></th>\n",
       "      <th></th>\n",
       "      <th></th>\n",
       "      <th></th>\n",
       "      <th></th>\n",
       "      <th></th>\n",
       "      <th></th>\n",
       "      <th></th>\n",
       "      <th></th>\n",
       "      <th></th>\n",
       "      <th></th>\n",
       "      <th></th>\n",
       "      <th></th>\n",
       "      <th></th>\n",
       "      <th></th>\n",
       "      <th></th>\n",
       "      <th></th>\n",
       "      <th></th>\n",
       "    </tr>\n",
       "  </thead>\n",
       "  <tbody>\n",
       "    <tr>\n",
       "      <th>Eastern Metropolitan</th>\n",
       "      <td>1.0</td>\n",
       "      <td>0.0</td>\n",
       "      <td>0.0</td>\n",
       "      <td>0.0</td>\n",
       "      <td>1.0</td>\n",
       "      <td>0.0</td>\n",
       "      <td>2.0</td>\n",
       "      <td>0.0</td>\n",
       "      <td>0.0</td>\n",
       "      <td>0.0</td>\n",
       "      <td>...</td>\n",
       "      <td>1.0</td>\n",
       "      <td>41.0</td>\n",
       "      <td>0.0</td>\n",
       "      <td>0.0</td>\n",
       "      <td>0.0</td>\n",
       "      <td>0.0</td>\n",
       "      <td>0.0</td>\n",
       "      <td>1.0</td>\n",
       "      <td>0.0</td>\n",
       "      <td>7.0</td>\n",
       "    </tr>\n",
       "    <tr>\n",
       "      <th>Eastern Victoria</th>\n",
       "      <td>0.0</td>\n",
       "      <td>0.0</td>\n",
       "      <td>0.0</td>\n",
       "      <td>0.0</td>\n",
       "      <td>0.0</td>\n",
       "      <td>0.0</td>\n",
       "      <td>0.0</td>\n",
       "      <td>0.0</td>\n",
       "      <td>0.0</td>\n",
       "      <td>0.0</td>\n",
       "      <td>...</td>\n",
       "      <td>0.0</td>\n",
       "      <td>3.0</td>\n",
       "      <td>0.0</td>\n",
       "      <td>0.0</td>\n",
       "      <td>0.0</td>\n",
       "      <td>0.0</td>\n",
       "      <td>0.0</td>\n",
       "      <td>0.0</td>\n",
       "      <td>0.0</td>\n",
       "      <td>3.0</td>\n",
       "    </tr>\n",
       "    <tr>\n",
       "      <th>Northern Metropolitan</th>\n",
       "      <td>3.0</td>\n",
       "      <td>2.0</td>\n",
       "      <td>0.0</td>\n",
       "      <td>15.0</td>\n",
       "      <td>0.0</td>\n",
       "      <td>0.0</td>\n",
       "      <td>0.0</td>\n",
       "      <td>0.0</td>\n",
       "      <td>0.0</td>\n",
       "      <td>1.0</td>\n",
       "      <td>...</td>\n",
       "      <td>1.0</td>\n",
       "      <td>149.0</td>\n",
       "      <td>1.0</td>\n",
       "      <td>0.0</td>\n",
       "      <td>0.0</td>\n",
       "      <td>0.0</td>\n",
       "      <td>0.0</td>\n",
       "      <td>0.0</td>\n",
       "      <td>0.0</td>\n",
       "      <td>1.0</td>\n",
       "    </tr>\n",
       "    <tr>\n",
       "      <th>Northern Victoria</th>\n",
       "      <td>0.0</td>\n",
       "      <td>0.0</td>\n",
       "      <td>0.0</td>\n",
       "      <td>0.0</td>\n",
       "      <td>0.0</td>\n",
       "      <td>0.0</td>\n",
       "      <td>0.0</td>\n",
       "      <td>0.0</td>\n",
       "      <td>0.0</td>\n",
       "      <td>0.0</td>\n",
       "      <td>...</td>\n",
       "      <td>0.0</td>\n",
       "      <td>8.0</td>\n",
       "      <td>0.0</td>\n",
       "      <td>0.0</td>\n",
       "      <td>0.0</td>\n",
       "      <td>0.0</td>\n",
       "      <td>0.0</td>\n",
       "      <td>0.0</td>\n",
       "      <td>0.0</td>\n",
       "      <td>0.0</td>\n",
       "    </tr>\n",
       "    <tr>\n",
       "      <th>South-Eastern Metropolitan</th>\n",
       "      <td>0.0</td>\n",
       "      <td>0.0</td>\n",
       "      <td>0.0</td>\n",
       "      <td>0.0</td>\n",
       "      <td>0.0</td>\n",
       "      <td>0.0</td>\n",
       "      <td>0.0</td>\n",
       "      <td>2.0</td>\n",
       "      <td>3.0</td>\n",
       "      <td>0.0</td>\n",
       "      <td>...</td>\n",
       "      <td>0.0</td>\n",
       "      <td>30.0</td>\n",
       "      <td>0.0</td>\n",
       "      <td>0.0</td>\n",
       "      <td>0.0</td>\n",
       "      <td>3.0</td>\n",
       "      <td>0.0</td>\n",
       "      <td>0.0</td>\n",
       "      <td>7.0</td>\n",
       "      <td>1.0</td>\n",
       "    </tr>\n",
       "    <tr>\n",
       "      <th>Southern Metropolitan</th>\n",
       "      <td>0.0</td>\n",
       "      <td>10.0</td>\n",
       "      <td>0.0</td>\n",
       "      <td>0.0</td>\n",
       "      <td>0.0</td>\n",
       "      <td>3.0</td>\n",
       "      <td>0.0</td>\n",
       "      <td>0.0</td>\n",
       "      <td>0.0</td>\n",
       "      <td>1.0</td>\n",
       "      <td>...</td>\n",
       "      <td>1.0</td>\n",
       "      <td>328.0</td>\n",
       "      <td>0.0</td>\n",
       "      <td>0.0</td>\n",
       "      <td>0.0</td>\n",
       "      <td>0.0</td>\n",
       "      <td>0.0</td>\n",
       "      <td>0.0</td>\n",
       "      <td>0.0</td>\n",
       "      <td>0.0</td>\n",
       "    </tr>\n",
       "    <tr>\n",
       "      <th>Western Metropolitan</th>\n",
       "      <td>0.0</td>\n",
       "      <td>0.0</td>\n",
       "      <td>1.0</td>\n",
       "      <td>12.0</td>\n",
       "      <td>0.0</td>\n",
       "      <td>0.0</td>\n",
       "      <td>0.0</td>\n",
       "      <td>0.0</td>\n",
       "      <td>0.0</td>\n",
       "      <td>0.0</td>\n",
       "      <td>...</td>\n",
       "      <td>0.0</td>\n",
       "      <td>113.0</td>\n",
       "      <td>0.0</td>\n",
       "      <td>1.0</td>\n",
       "      <td>1.0</td>\n",
       "      <td>0.0</td>\n",
       "      <td>1.0</td>\n",
       "      <td>0.0</td>\n",
       "      <td>0.0</td>\n",
       "      <td>0.0</td>\n",
       "    </tr>\n",
       "    <tr>\n",
       "      <th>Western Victoria</th>\n",
       "      <td>0.0</td>\n",
       "      <td>0.0</td>\n",
       "      <td>0.0</td>\n",
       "      <td>0.0</td>\n",
       "      <td>0.0</td>\n",
       "      <td>0.0</td>\n",
       "      <td>0.0</td>\n",
       "      <td>0.0</td>\n",
       "      <td>0.0</td>\n",
       "      <td>0.0</td>\n",
       "      <td>...</td>\n",
       "      <td>0.0</td>\n",
       "      <td>11.0</td>\n",
       "      <td>0.0</td>\n",
       "      <td>0.0</td>\n",
       "      <td>0.0</td>\n",
       "      <td>0.0</td>\n",
       "      <td>0.0</td>\n",
       "      <td>0.0</td>\n",
       "      <td>0.0</td>\n",
       "      <td>0.0</td>\n",
       "    </tr>\n",
       "  </tbody>\n",
       "</table>\n",
       "<p>8 rows × 250 columns</p>\n",
       "</div>"
      ],
      "text/plain": [
       "SellerG                     @Realty  Abercromby's  Ace  Alexkarbon  Allens  \\\n",
       "Regionname                                                                   \n",
       "Eastern Metropolitan            1.0           0.0  0.0         0.0     1.0   \n",
       "Eastern Victoria                0.0           0.0  0.0         0.0     0.0   \n",
       "Northern Metropolitan           3.0           2.0  0.0        15.0     0.0   \n",
       "Northern Victoria               0.0           0.0  0.0         0.0     0.0   \n",
       "South-Eastern Metropolitan      0.0           0.0  0.0         0.0     0.0   \n",
       "Southern Metropolitan           0.0          10.0  0.0         0.0     0.0   \n",
       "Western Metropolitan            0.0           0.0  1.0        12.0     0.0   \n",
       "Western Victoria                0.0           0.0  0.0         0.0     0.0   \n",
       "\n",
       "SellerG                     Anderson  Appleby  Aquire  Area  Ascend  ...  \\\n",
       "Regionname                                                           ...   \n",
       "Eastern Metropolitan             0.0      2.0     0.0   0.0     0.0  ...   \n",
       "Eastern Victoria                 0.0      0.0     0.0   0.0     0.0  ...   \n",
       "Northern Metropolitan            0.0      0.0     0.0   0.0     1.0  ...   \n",
       "Northern Victoria                0.0      0.0     0.0   0.0     0.0  ...   \n",
       "South-Eastern Metropolitan       0.0      0.0     2.0   3.0     0.0  ...   \n",
       "Southern Metropolitan            3.0      0.0     0.0   0.0     1.0  ...   \n",
       "Western Metropolitan             0.0      0.0     0.0   0.0     0.0  ...   \n",
       "Western Victoria                 0.0      0.0     0.0   0.0     0.0  ...   \n",
       "\n",
       "SellerG                     buyMyplace  hockingstuart  \\\n",
       "Regionname                                              \n",
       "Eastern Metropolitan               1.0           41.0   \n",
       "Eastern Victoria                   0.0            3.0   \n",
       "Northern Metropolitan              1.0          149.0   \n",
       "Northern Victoria                  0.0            8.0   \n",
       "South-Eastern Metropolitan         0.0           30.0   \n",
       "Southern Metropolitan              1.0          328.0   \n",
       "Western Metropolitan               0.0          113.0   \n",
       "Western Victoria                   0.0           11.0   \n",
       "\n",
       "SellerG                     hockingstuart/Advantage  hockingstuart/Biggin  \\\n",
       "Regionname                                                                  \n",
       "Eastern Metropolitan                            0.0                   0.0   \n",
       "Eastern Victoria                                0.0                   0.0   \n",
       "Northern Metropolitan                           1.0                   0.0   \n",
       "Northern Victoria                               0.0                   0.0   \n",
       "South-Eastern Metropolitan                      0.0                   0.0   \n",
       "Southern Metropolitan                           0.0                   0.0   \n",
       "Western Metropolitan                            0.0                   1.0   \n",
       "Western Victoria                                0.0                   0.0   \n",
       "\n",
       "SellerG                     hockingstuart/Village  \\\n",
       "Regionname                                          \n",
       "Eastern Metropolitan                          0.0   \n",
       "Eastern Victoria                              0.0   \n",
       "Northern Metropolitan                         0.0   \n",
       "Northern Victoria                             0.0   \n",
       "South-Eastern Metropolitan                    0.0   \n",
       "Southern Metropolitan                         0.0   \n",
       "Western Metropolitan                          1.0   \n",
       "Western Victoria                              0.0   \n",
       "\n",
       "SellerG                     hockingstuart/hockingstuart  iOne  iProperty  \\\n",
       "Regionname                                                                 \n",
       "Eastern Metropolitan                                0.0   0.0        1.0   \n",
       "Eastern Victoria                                    0.0   0.0        0.0   \n",
       "Northern Metropolitan                               0.0   0.0        0.0   \n",
       "Northern Victoria                                   0.0   0.0        0.0   \n",
       "South-Eastern Metropolitan                          3.0   0.0        0.0   \n",
       "Southern Metropolitan                               0.0   0.0        0.0   \n",
       "Western Metropolitan                                0.0   1.0        0.0   \n",
       "Western Victoria                                    0.0   0.0        0.0   \n",
       "\n",
       "SellerG                     iSell  iTRAK  \n",
       "Regionname                                \n",
       "Eastern Metropolitan          0.0    7.0  \n",
       "Eastern Victoria              0.0    3.0  \n",
       "Northern Metropolitan         0.0    1.0  \n",
       "Northern Victoria             0.0    0.0  \n",
       "South-Eastern Metropolitan    7.0    1.0  \n",
       "Southern Metropolitan         0.0    0.0  \n",
       "Western Metropolitan          0.0    0.0  \n",
       "Western Victoria              0.0    0.0  \n",
       "\n",
       "[8 rows x 250 columns]"
      ]
     },
     "execution_count": 64,
     "metadata": {},
     "output_type": "execute_result"
    }
   ],
   "source": [
    "###Regionname as the basket \n",
    "basket_1 = (df.groupby(['Regionname','SellerG'])['Quantity']\n",
    "           .sum().unstack().reset_index().fillna(0)\n",
    "           .set_index('Regionname'))\n",
    "basket_1.head(10)"
   ]
  },
  {
   "cell_type": "code",
   "execution_count": 63,
   "id": "770dab51",
   "metadata": {},
   "outputs": [],
   "source": [
    "def encode_units(x):\n",
    "     if x <= 0:\n",
    "             return 0\n",
    "     if x >= 1:\n",
    "             return 1\n",
    "basket_sets = basket.applymap(encode_units)\n"
   ]
  },
  {
   "cell_type": "code",
   "execution_count": 65,
   "id": "c10f0f20",
   "metadata": {},
   "outputs": [],
   "source": [
    "def encode_units(x):\n",
    "     if x <= 0:\n",
    "             return 0\n",
    "     if x >= 1:\n",
    "             return 1\n",
    "basket_sets_1 = basket_1.applymap(encode_units)"
   ]
  },
  {
   "cell_type": "code",
   "execution_count": 54,
   "id": "23dbbae8",
   "metadata": {},
   "outputs": [
    {
     "data": {
      "text/html": [
       "<div>\n",
       "<style scoped>\n",
       "    .dataframe tbody tr th:only-of-type {\n",
       "        vertical-align: middle;\n",
       "    }\n",
       "\n",
       "    .dataframe tbody tr th {\n",
       "        vertical-align: top;\n",
       "    }\n",
       "\n",
       "    .dataframe thead th {\n",
       "        text-align: right;\n",
       "    }\n",
       "</style>\n",
       "<table border=\"1\" class=\"dataframe\">\n",
       "  <thead>\n",
       "    <tr style=\"text-align: right;\">\n",
       "      <th>Regionname</th>\n",
       "      <th>Eastern Metropolitan</th>\n",
       "      <th>Eastern Victoria</th>\n",
       "      <th>Northern Metropolitan</th>\n",
       "      <th>Northern Victoria</th>\n",
       "      <th>South-Eastern Metropolitan</th>\n",
       "      <th>Southern Metropolitan</th>\n",
       "      <th>Western Metropolitan</th>\n",
       "      <th>Western Victoria</th>\n",
       "    </tr>\n",
       "    <tr>\n",
       "      <th>SellerG</th>\n",
       "      <th></th>\n",
       "      <th></th>\n",
       "      <th></th>\n",
       "      <th></th>\n",
       "      <th></th>\n",
       "      <th></th>\n",
       "      <th></th>\n",
       "      <th></th>\n",
       "    </tr>\n",
       "  </thead>\n",
       "  <tbody>\n",
       "    <tr>\n",
       "      <th>@Realty</th>\n",
       "      <td>1</td>\n",
       "      <td>0</td>\n",
       "      <td>1</td>\n",
       "      <td>0</td>\n",
       "      <td>0</td>\n",
       "      <td>0</td>\n",
       "      <td>0</td>\n",
       "      <td>0</td>\n",
       "    </tr>\n",
       "    <tr>\n",
       "      <th>Abercromby's</th>\n",
       "      <td>0</td>\n",
       "      <td>0</td>\n",
       "      <td>1</td>\n",
       "      <td>0</td>\n",
       "      <td>0</td>\n",
       "      <td>1</td>\n",
       "      <td>0</td>\n",
       "      <td>0</td>\n",
       "    </tr>\n",
       "    <tr>\n",
       "      <th>Ace</th>\n",
       "      <td>0</td>\n",
       "      <td>0</td>\n",
       "      <td>0</td>\n",
       "      <td>0</td>\n",
       "      <td>0</td>\n",
       "      <td>0</td>\n",
       "      <td>1</td>\n",
       "      <td>0</td>\n",
       "    </tr>\n",
       "    <tr>\n",
       "      <th>Alexkarbon</th>\n",
       "      <td>0</td>\n",
       "      <td>0</td>\n",
       "      <td>1</td>\n",
       "      <td>0</td>\n",
       "      <td>0</td>\n",
       "      <td>0</td>\n",
       "      <td>1</td>\n",
       "      <td>0</td>\n",
       "    </tr>\n",
       "    <tr>\n",
       "      <th>Allens</th>\n",
       "      <td>1</td>\n",
       "      <td>0</td>\n",
       "      <td>0</td>\n",
       "      <td>0</td>\n",
       "      <td>0</td>\n",
       "      <td>0</td>\n",
       "      <td>0</td>\n",
       "      <td>0</td>\n",
       "    </tr>\n",
       "  </tbody>\n",
       "</table>\n",
       "</div>"
      ],
      "text/plain": [
       "Regionname    Eastern Metropolitan  Eastern Victoria  Northern Metropolitan  \\\n",
       "SellerG                                                                       \n",
       "@Realty                          1                 0                      1   \n",
       "Abercromby's                     0                 0                      1   \n",
       "Ace                              0                 0                      0   \n",
       "Alexkarbon                       0                 0                      1   \n",
       "Allens                           1                 0                      0   \n",
       "\n",
       "Regionname    Northern Victoria  South-Eastern Metropolitan  \\\n",
       "SellerG                                                       \n",
       "@Realty                       0                           0   \n",
       "Abercromby's                  0                           0   \n",
       "Ace                           0                           0   \n",
       "Alexkarbon                    0                           0   \n",
       "Allens                        0                           0   \n",
       "\n",
       "Regionname    Southern Metropolitan  Western Metropolitan  Western Victoria  \n",
       "SellerG                                                                      \n",
       "@Realty                           0                     0                 0  \n",
       "Abercromby's                      1                     0                 0  \n",
       "Ace                               0                     1                 0  \n",
       "Alexkarbon                        0                     1                 0  \n",
       "Allens                            0                     0                 0  "
      ]
     },
     "execution_count": 54,
     "metadata": {},
     "output_type": "execute_result"
    }
   ],
   "source": [
    "basket_sets.head()"
   ]
  },
  {
   "cell_type": "code",
   "execution_count": 66,
   "id": "720e341b",
   "metadata": {},
   "outputs": [
    {
     "data": {
      "text/html": [
       "<div>\n",
       "<style scoped>\n",
       "    .dataframe tbody tr th:only-of-type {\n",
       "        vertical-align: middle;\n",
       "    }\n",
       "\n",
       "    .dataframe tbody tr th {\n",
       "        vertical-align: top;\n",
       "    }\n",
       "\n",
       "    .dataframe thead th {\n",
       "        text-align: right;\n",
       "    }\n",
       "</style>\n",
       "<table border=\"1\" class=\"dataframe\">\n",
       "  <thead>\n",
       "    <tr style=\"text-align: right;\">\n",
       "      <th>SellerG</th>\n",
       "      <th>@Realty</th>\n",
       "      <th>Abercromby's</th>\n",
       "      <th>Ace</th>\n",
       "      <th>Alexkarbon</th>\n",
       "      <th>Allens</th>\n",
       "      <th>Anderson</th>\n",
       "      <th>Appleby</th>\n",
       "      <th>Aquire</th>\n",
       "      <th>Area</th>\n",
       "      <th>Ascend</th>\n",
       "      <th>...</th>\n",
       "      <th>buyMyplace</th>\n",
       "      <th>hockingstuart</th>\n",
       "      <th>hockingstuart/Advantage</th>\n",
       "      <th>hockingstuart/Biggin</th>\n",
       "      <th>hockingstuart/Village</th>\n",
       "      <th>hockingstuart/hockingstuart</th>\n",
       "      <th>iOne</th>\n",
       "      <th>iProperty</th>\n",
       "      <th>iSell</th>\n",
       "      <th>iTRAK</th>\n",
       "    </tr>\n",
       "    <tr>\n",
       "      <th>Regionname</th>\n",
       "      <th></th>\n",
       "      <th></th>\n",
       "      <th></th>\n",
       "      <th></th>\n",
       "      <th></th>\n",
       "      <th></th>\n",
       "      <th></th>\n",
       "      <th></th>\n",
       "      <th></th>\n",
       "      <th></th>\n",
       "      <th></th>\n",
       "      <th></th>\n",
       "      <th></th>\n",
       "      <th></th>\n",
       "      <th></th>\n",
       "      <th></th>\n",
       "      <th></th>\n",
       "      <th></th>\n",
       "      <th></th>\n",
       "      <th></th>\n",
       "      <th></th>\n",
       "    </tr>\n",
       "  </thead>\n",
       "  <tbody>\n",
       "    <tr>\n",
       "      <th>Eastern Metropolitan</th>\n",
       "      <td>1</td>\n",
       "      <td>0</td>\n",
       "      <td>0</td>\n",
       "      <td>0</td>\n",
       "      <td>1</td>\n",
       "      <td>0</td>\n",
       "      <td>1</td>\n",
       "      <td>0</td>\n",
       "      <td>0</td>\n",
       "      <td>0</td>\n",
       "      <td>...</td>\n",
       "      <td>1</td>\n",
       "      <td>1</td>\n",
       "      <td>0</td>\n",
       "      <td>0</td>\n",
       "      <td>0</td>\n",
       "      <td>0</td>\n",
       "      <td>0</td>\n",
       "      <td>1</td>\n",
       "      <td>0</td>\n",
       "      <td>1</td>\n",
       "    </tr>\n",
       "    <tr>\n",
       "      <th>Eastern Victoria</th>\n",
       "      <td>0</td>\n",
       "      <td>0</td>\n",
       "      <td>0</td>\n",
       "      <td>0</td>\n",
       "      <td>0</td>\n",
       "      <td>0</td>\n",
       "      <td>0</td>\n",
       "      <td>0</td>\n",
       "      <td>0</td>\n",
       "      <td>0</td>\n",
       "      <td>...</td>\n",
       "      <td>0</td>\n",
       "      <td>1</td>\n",
       "      <td>0</td>\n",
       "      <td>0</td>\n",
       "      <td>0</td>\n",
       "      <td>0</td>\n",
       "      <td>0</td>\n",
       "      <td>0</td>\n",
       "      <td>0</td>\n",
       "      <td>1</td>\n",
       "    </tr>\n",
       "    <tr>\n",
       "      <th>Northern Metropolitan</th>\n",
       "      <td>1</td>\n",
       "      <td>1</td>\n",
       "      <td>0</td>\n",
       "      <td>1</td>\n",
       "      <td>0</td>\n",
       "      <td>0</td>\n",
       "      <td>0</td>\n",
       "      <td>0</td>\n",
       "      <td>0</td>\n",
       "      <td>1</td>\n",
       "      <td>...</td>\n",
       "      <td>1</td>\n",
       "      <td>1</td>\n",
       "      <td>1</td>\n",
       "      <td>0</td>\n",
       "      <td>0</td>\n",
       "      <td>0</td>\n",
       "      <td>0</td>\n",
       "      <td>0</td>\n",
       "      <td>0</td>\n",
       "      <td>1</td>\n",
       "    </tr>\n",
       "    <tr>\n",
       "      <th>Northern Victoria</th>\n",
       "      <td>0</td>\n",
       "      <td>0</td>\n",
       "      <td>0</td>\n",
       "      <td>0</td>\n",
       "      <td>0</td>\n",
       "      <td>0</td>\n",
       "      <td>0</td>\n",
       "      <td>0</td>\n",
       "      <td>0</td>\n",
       "      <td>0</td>\n",
       "      <td>...</td>\n",
       "      <td>0</td>\n",
       "      <td>1</td>\n",
       "      <td>0</td>\n",
       "      <td>0</td>\n",
       "      <td>0</td>\n",
       "      <td>0</td>\n",
       "      <td>0</td>\n",
       "      <td>0</td>\n",
       "      <td>0</td>\n",
       "      <td>0</td>\n",
       "    </tr>\n",
       "    <tr>\n",
       "      <th>South-Eastern Metropolitan</th>\n",
       "      <td>0</td>\n",
       "      <td>0</td>\n",
       "      <td>0</td>\n",
       "      <td>0</td>\n",
       "      <td>0</td>\n",
       "      <td>0</td>\n",
       "      <td>0</td>\n",
       "      <td>1</td>\n",
       "      <td>1</td>\n",
       "      <td>0</td>\n",
       "      <td>...</td>\n",
       "      <td>0</td>\n",
       "      <td>1</td>\n",
       "      <td>0</td>\n",
       "      <td>0</td>\n",
       "      <td>0</td>\n",
       "      <td>1</td>\n",
       "      <td>0</td>\n",
       "      <td>0</td>\n",
       "      <td>1</td>\n",
       "      <td>1</td>\n",
       "    </tr>\n",
       "  </tbody>\n",
       "</table>\n",
       "<p>5 rows × 250 columns</p>\n",
       "</div>"
      ],
      "text/plain": [
       "SellerG                     @Realty  Abercromby's  Ace  Alexkarbon  Allens  \\\n",
       "Regionname                                                                   \n",
       "Eastern Metropolitan              1             0    0           0       1   \n",
       "Eastern Victoria                  0             0    0           0       0   \n",
       "Northern Metropolitan             1             1    0           1       0   \n",
       "Northern Victoria                 0             0    0           0       0   \n",
       "South-Eastern Metropolitan        0             0    0           0       0   \n",
       "\n",
       "SellerG                     Anderson  Appleby  Aquire  Area  Ascend  ...  \\\n",
       "Regionname                                                           ...   \n",
       "Eastern Metropolitan               0        1       0     0       0  ...   \n",
       "Eastern Victoria                   0        0       0     0       0  ...   \n",
       "Northern Metropolitan              0        0       0     0       1  ...   \n",
       "Northern Victoria                  0        0       0     0       0  ...   \n",
       "South-Eastern Metropolitan         0        0       1     1       0  ...   \n",
       "\n",
       "SellerG                     buyMyplace  hockingstuart  \\\n",
       "Regionname                                              \n",
       "Eastern Metropolitan                 1              1   \n",
       "Eastern Victoria                     0              1   \n",
       "Northern Metropolitan                1              1   \n",
       "Northern Victoria                    0              1   \n",
       "South-Eastern Metropolitan           0              1   \n",
       "\n",
       "SellerG                     hockingstuart/Advantage  hockingstuart/Biggin  \\\n",
       "Regionname                                                                  \n",
       "Eastern Metropolitan                              0                     0   \n",
       "Eastern Victoria                                  0                     0   \n",
       "Northern Metropolitan                             1                     0   \n",
       "Northern Victoria                                 0                     0   \n",
       "South-Eastern Metropolitan                        0                     0   \n",
       "\n",
       "SellerG                     hockingstuart/Village  \\\n",
       "Regionname                                          \n",
       "Eastern Metropolitan                            0   \n",
       "Eastern Victoria                                0   \n",
       "Northern Metropolitan                           0   \n",
       "Northern Victoria                               0   \n",
       "South-Eastern Metropolitan                      0   \n",
       "\n",
       "SellerG                     hockingstuart/hockingstuart  iOne  iProperty  \\\n",
       "Regionname                                                                 \n",
       "Eastern Metropolitan                                  0     0          1   \n",
       "Eastern Victoria                                      0     0          0   \n",
       "Northern Metropolitan                                 0     0          0   \n",
       "Northern Victoria                                     0     0          0   \n",
       "South-Eastern Metropolitan                            1     0          0   \n",
       "\n",
       "SellerG                     iSell  iTRAK  \n",
       "Regionname                                \n",
       "Eastern Metropolitan            0      1  \n",
       "Eastern Victoria                0      1  \n",
       "Northern Metropolitan           0      1  \n",
       "Northern Victoria               0      0  \n",
       "South-Eastern Metropolitan      1      1  \n",
       "\n",
       "[5 rows x 250 columns]"
      ]
     },
     "execution_count": 66,
     "metadata": {},
     "output_type": "execute_result"
    }
   ],
   "source": [
    "basket_sets_1.head()"
   ]
  },
  {
   "cell_type": "markdown",
   "id": "f7f47613",
   "metadata": {},
   "source": [
    "Association Rules Learning"
   ]
  },
  {
   "cell_type": "code",
   "execution_count": 35,
   "id": "dc5d344d",
   "metadata": {
    "collapsed": true
   },
   "outputs": [
    {
     "name": "stdout",
     "output_type": "stream",
     "text": [
      "Collecting mlxtend\n",
      "  Using cached mlxtend-0.22.0-py2.py3-none-any.whl (1.4 MB)\n",
      "Requirement already satisfied: scipy>=1.2.1 in c:\\users\\looi\\appdata\\local\\anaconda3\\lib\\site-packages (from mlxtend) (1.9.3)\n",
      "Requirement already satisfied: matplotlib>=3.0.0 in c:\\users\\looi\\appdata\\local\\anaconda3\\lib\\site-packages (from mlxtend) (3.7.0)\n",
      "Requirement already satisfied: pandas>=0.24.2 in c:\\users\\looi\\appdata\\local\\anaconda3\\lib\\site-packages (from mlxtend) (1.5.3)\n",
      "Requirement already satisfied: setuptools in c:\\users\\looi\\appdata\\local\\anaconda3\\lib\\site-packages (from mlxtend) (65.6.3)\n",
      "Requirement already satisfied: scikit-learn>=1.0.2 in c:\\users\\looi\\appdata\\local\\anaconda3\\lib\\site-packages (from mlxtend) (1.2.1)\n",
      "Requirement already satisfied: numpy>=1.16.2 in c:\\users\\looi\\appdata\\local\\anaconda3\\lib\\site-packages (from mlxtend) (1.23.5)\n",
      "Requirement already satisfied: joblib>=0.13.2 in c:\\users\\looi\\appdata\\local\\anaconda3\\lib\\site-packages (from mlxtend) (1.1.1)\n",
      "Requirement already satisfied: contourpy>=1.0.1 in c:\\users\\looi\\appdata\\local\\anaconda3\\lib\\site-packages (from matplotlib>=3.0.0->mlxtend) (1.0.5)\n",
      "Requirement already satisfied: pyparsing>=2.3.1 in c:\\users\\looi\\appdata\\local\\anaconda3\\lib\\site-packages (from matplotlib>=3.0.0->mlxtend) (3.0.9)\n",
      "Requirement already satisfied: packaging>=20.0 in c:\\users\\looi\\appdata\\local\\anaconda3\\lib\\site-packages (from matplotlib>=3.0.0->mlxtend) (22.0)\n",
      "Requirement already satisfied: python-dateutil>=2.7 in c:\\users\\looi\\appdata\\local\\anaconda3\\lib\\site-packages (from matplotlib>=3.0.0->mlxtend) (2.8.2)\n",
      "Requirement already satisfied: fonttools>=4.22.0 in c:\\users\\looi\\appdata\\local\\anaconda3\\lib\\site-packages (from matplotlib>=3.0.0->mlxtend) (4.25.0)\n",
      "Requirement already satisfied: cycler>=0.10 in c:\\users\\looi\\appdata\\local\\anaconda3\\lib\\site-packages (from matplotlib>=3.0.0->mlxtend) (0.11.0)\n",
      "Requirement already satisfied: pillow>=6.2.0 in c:\\users\\looi\\appdata\\local\\anaconda3\\lib\\site-packages (from matplotlib>=3.0.0->mlxtend) (9.4.0)\n",
      "Requirement already satisfied: kiwisolver>=1.0.1 in c:\\users\\looi\\appdata\\local\\anaconda3\\lib\\site-packages (from matplotlib>=3.0.0->mlxtend) (1.4.4)\n",
      "Requirement already satisfied: pytz>=2020.1 in c:\\users\\looi\\appdata\\local\\anaconda3\\lib\\site-packages (from pandas>=0.24.2->mlxtend) (2022.7)\n",
      "Requirement already satisfied: threadpoolctl>=2.0.0 in c:\\users\\looi\\appdata\\local\\anaconda3\\lib\\site-packages (from scikit-learn>=1.0.2->mlxtend) (2.2.0)\n",
      "Requirement already satisfied: six>=1.5 in c:\\users\\looi\\appdata\\local\\anaconda3\\lib\\site-packages (from python-dateutil>=2.7->matplotlib>=3.0.0->mlxtend) (1.16.0)\n",
      "Installing collected packages: mlxtend\n",
      "Successfully installed mlxtend-0.22.0\n"
     ]
    },
    {
     "name": "stderr",
     "output_type": "stream",
     "text": [
      "WARNING: Ignoring invalid distribution -cipy (c:\\users\\looi\\appdata\\local\\anaconda3\\lib\\site-packages)\n",
      "WARNING: Ignoring invalid distribution -cipy (c:\\users\\looi\\appdata\\local\\anaconda3\\lib\\site-packages)\n",
      "WARNING: Ignoring invalid distribution -cipy (c:\\users\\looi\\appdata\\local\\anaconda3\\lib\\site-packages)\n",
      "WARNING: Ignoring invalid distribution -cipy (c:\\users\\looi\\appdata\\local\\anaconda3\\lib\\site-packages)\n",
      "WARNING: Ignoring invalid distribution -cipy (c:\\users\\looi\\appdata\\local\\anaconda3\\lib\\site-packages)\n",
      "WARNING: Ignoring invalid distribution -cipy (c:\\users\\looi\\appdata\\local\\anaconda3\\lib\\site-packages)\n",
      "WARNING: Ignoring invalid distribution -cipy (c:\\users\\looi\\appdata\\local\\anaconda3\\lib\\site-packages)\n",
      "C:\\Users\\looi\\AppData\\Local\\anaconda3\\lib\\site-packages\\mlxtend\\frequent_patterns\\fpcommon.py:110: DeprecationWarning:\n",
      "\n",
      "DataFrames with non-bool types result in worse computationalperformance and their support might be discontinued in the future.Please use a DataFrame with bool type\n",
      "\n"
     ]
    },
    {
     "data": {
      "text/html": [
       "<div>\n",
       "<style scoped>\n",
       "    .dataframe tbody tr th:only-of-type {\n",
       "        vertical-align: middle;\n",
       "    }\n",
       "\n",
       "    .dataframe tbody tr th {\n",
       "        vertical-align: top;\n",
       "    }\n",
       "\n",
       "    .dataframe thead th {\n",
       "        text-align: right;\n",
       "    }\n",
       "</style>\n",
       "<table border=\"1\" class=\"dataframe\">\n",
       "  <thead>\n",
       "    <tr style=\"text-align: right;\">\n",
       "      <th></th>\n",
       "      <th>support</th>\n",
       "      <th>itemsets</th>\n",
       "    </tr>\n",
       "  </thead>\n",
       "  <tbody>\n",
       "    <tr>\n",
       "      <th>5</th>\n",
       "      <td>0.412</td>\n",
       "      <td>((Price, Southern Metropolitan))</td>\n",
       "    </tr>\n",
       "    <tr>\n",
       "      <th>6</th>\n",
       "      <td>0.392</td>\n",
       "      <td>((Price, Western Metropolitan))</td>\n",
       "    </tr>\n",
       "    <tr>\n",
       "      <th>2</th>\n",
       "      <td>0.352</td>\n",
       "      <td>((Price, Northern Metropolitan))</td>\n",
       "    </tr>\n",
       "    <tr>\n",
       "      <th>0</th>\n",
       "      <td>0.248</td>\n",
       "      <td>((Price, Eastern Metropolitan))</td>\n",
       "    </tr>\n",
       "    <tr>\n",
       "      <th>4</th>\n",
       "      <td>0.228</td>\n",
       "      <td>((Price, South-Eastern Metropolitan))</td>\n",
       "    </tr>\n",
       "    <tr>\n",
       "      <th>...</th>\n",
       "      <td>...</td>\n",
       "      <td>...</td>\n",
       "    </tr>\n",
       "    <tr>\n",
       "      <th>106</th>\n",
       "      <td>0.004</td>\n",
       "      <td>((Price, Eastern Victoria), (Price, Eastern Me...</td>\n",
       "    </tr>\n",
       "    <tr>\n",
       "      <th>180</th>\n",
       "      <td>0.004</td>\n",
       "      <td>((Price, Western Metropolitan), (Price, Wester...</td>\n",
       "    </tr>\n",
       "    <tr>\n",
       "      <th>220</th>\n",
       "      <td>0.004</td>\n",
       "      <td>((Price, Western Victoria), (Price, Eastern Vi...</td>\n",
       "    </tr>\n",
       "    <tr>\n",
       "      <th>222</th>\n",
       "      <td>0.004</td>\n",
       "      <td>((Price, Western Victoria), (Price, Eastern Vi...</td>\n",
       "    </tr>\n",
       "    <tr>\n",
       "      <th>254</th>\n",
       "      <td>0.004</td>\n",
       "      <td>((Price, Western Metropolitan), (Price, Wester...</td>\n",
       "    </tr>\n",
       "  </tbody>\n",
       "</table>\n",
       "<p>255 rows × 2 columns</p>\n",
       "</div>"
      ],
      "text/plain": [
       "     support                                           itemsets\n",
       "5      0.412                   ((Price, Southern Metropolitan))\n",
       "6      0.392                    ((Price, Western Metropolitan))\n",
       "2      0.352                   ((Price, Northern Metropolitan))\n",
       "0      0.248                    ((Price, Eastern Metropolitan))\n",
       "4      0.228              ((Price, South-Eastern Metropolitan))\n",
       "..       ...                                                ...\n",
       "106    0.004  ((Price, Eastern Victoria), (Price, Eastern Me...\n",
       "180    0.004  ((Price, Western Metropolitan), (Price, Wester...\n",
       "220    0.004  ((Price, Western Victoria), (Price, Eastern Vi...\n",
       "222    0.004  ((Price, Western Victoria), (Price, Eastern Vi...\n",
       "254    0.004  ((Price, Western Metropolitan), (Price, Wester...\n",
       "\n",
       "[255 rows x 2 columns]"
      ]
     },
     "execution_count": 35,
     "metadata": {},
     "output_type": "execute_result"
    }
   ],
   "source": [
    "!pip install mlxtend\n",
    "from mlxtend.frequent_patterns import apriori, association_rules"
   ]
  },
  {
   "cell_type": "code",
   "execution_count": 55,
   "id": "6315606c",
   "metadata": {},
   "outputs": [
    {
     "name": "stderr",
     "output_type": "stream",
     "text": [
      "C:\\Users\\looi\\AppData\\Local\\anaconda3\\lib\\site-packages\\mlxtend\\frequent_patterns\\fpcommon.py:110: DeprecationWarning:\n",
      "\n",
      "DataFrames with non-bool types result in worse computationalperformance and their support might be discontinued in the future.Please use a DataFrame with bool type\n",
      "\n"
     ]
    },
    {
     "data": {
      "text/html": [
       "<div>\n",
       "<style scoped>\n",
       "    .dataframe tbody tr th:only-of-type {\n",
       "        vertical-align: middle;\n",
       "    }\n",
       "\n",
       "    .dataframe tbody tr th {\n",
       "        vertical-align: top;\n",
       "    }\n",
       "\n",
       "    .dataframe thead th {\n",
       "        text-align: right;\n",
       "    }\n",
       "</style>\n",
       "<table border=\"1\" class=\"dataframe\">\n",
       "  <thead>\n",
       "    <tr style=\"text-align: right;\">\n",
       "      <th></th>\n",
       "      <th>support</th>\n",
       "      <th>itemsets</th>\n",
       "    </tr>\n",
       "  </thead>\n",
       "  <tbody>\n",
       "    <tr>\n",
       "      <th>5</th>\n",
       "      <td>0.412</td>\n",
       "      <td>(Southern Metropolitan)</td>\n",
       "    </tr>\n",
       "    <tr>\n",
       "      <th>6</th>\n",
       "      <td>0.392</td>\n",
       "      <td>(Western Metropolitan)</td>\n",
       "    </tr>\n",
       "    <tr>\n",
       "      <th>2</th>\n",
       "      <td>0.352</td>\n",
       "      <td>(Northern Metropolitan)</td>\n",
       "    </tr>\n",
       "    <tr>\n",
       "      <th>0</th>\n",
       "      <td>0.248</td>\n",
       "      <td>(Eastern Metropolitan)</td>\n",
       "    </tr>\n",
       "    <tr>\n",
       "      <th>4</th>\n",
       "      <td>0.228</td>\n",
       "      <td>(South-Eastern Metropolitan)</td>\n",
       "    </tr>\n",
       "    <tr>\n",
       "      <th>...</th>\n",
       "      <td>...</td>\n",
       "      <td>...</td>\n",
       "    </tr>\n",
       "    <tr>\n",
       "      <th>106</th>\n",
       "      <td>0.004</td>\n",
       "      <td>(Western Victoria, Eastern Metropolitan, Easte...</td>\n",
       "    </tr>\n",
       "    <tr>\n",
       "      <th>180</th>\n",
       "      <td>0.004</td>\n",
       "      <td>(Eastern Metropolitan, Western Victoria, Easte...</td>\n",
       "    </tr>\n",
       "    <tr>\n",
       "      <th>220</th>\n",
       "      <td>0.004</td>\n",
       "      <td>(Eastern Metropolitan, Northern Victoria, West...</td>\n",
       "    </tr>\n",
       "    <tr>\n",
       "      <th>222</th>\n",
       "      <td>0.004</td>\n",
       "      <td>(Eastern Metropolitan, Northern Victoria, West...</td>\n",
       "    </tr>\n",
       "    <tr>\n",
       "      <th>254</th>\n",
       "      <td>0.004</td>\n",
       "      <td>(Eastern Metropolitan, Northern Victoria, West...</td>\n",
       "    </tr>\n",
       "  </tbody>\n",
       "</table>\n",
       "<p>255 rows × 2 columns</p>\n",
       "</div>"
      ],
      "text/plain": [
       "     support                                           itemsets\n",
       "5      0.412                            (Southern Metropolitan)\n",
       "6      0.392                             (Western Metropolitan)\n",
       "2      0.352                            (Northern Metropolitan)\n",
       "0      0.248                             (Eastern Metropolitan)\n",
       "4      0.228                       (South-Eastern Metropolitan)\n",
       "..       ...                                                ...\n",
       "106    0.004  (Western Victoria, Eastern Metropolitan, Easte...\n",
       "180    0.004  (Eastern Metropolitan, Western Victoria, Easte...\n",
       "220    0.004  (Eastern Metropolitan, Northern Victoria, West...\n",
       "222    0.004  (Eastern Metropolitan, Northern Victoria, West...\n",
       "254    0.004  (Eastern Metropolitan, Northern Victoria, West...\n",
       "\n",
       "[255 rows x 2 columns]"
      ]
     },
     "execution_count": 55,
     "metadata": {},
     "output_type": "execute_result"
    }
   ],
   "source": [
    "frequent_itemsets = apriori(basket_sets, min_support=0.001, use_colnames=True) \n",
    "frequent_itemsets.sort_values(\"support\", ascending=False)"
   ]
  },
  {
   "cell_type": "code",
   "execution_count": null,
   "id": "ab7b0578",
   "metadata": {},
   "outputs": [],
   "source": [
    "frequent_itemsets = apriori(basket_sets_1, min_support=0.001, use_colnames=True) \n",
    "frequent_itemsets.sort_values(\"support\", ascending=False)"
   ]
  },
  {
   "cell_type": "code",
   "execution_count": 56,
   "id": "cd00b3c2",
   "metadata": {},
   "outputs": [
    {
     "data": {
      "text/html": [
       "<div>\n",
       "<style scoped>\n",
       "    .dataframe tbody tr th:only-of-type {\n",
       "        vertical-align: middle;\n",
       "    }\n",
       "\n",
       "    .dataframe tbody tr th {\n",
       "        vertical-align: top;\n",
       "    }\n",
       "\n",
       "    .dataframe thead th {\n",
       "        text-align: right;\n",
       "    }\n",
       "</style>\n",
       "<table border=\"1\" class=\"dataframe\">\n",
       "  <thead>\n",
       "    <tr style=\"text-align: right;\">\n",
       "      <th></th>\n",
       "      <th>antecedents</th>\n",
       "      <th>consequents</th>\n",
       "      <th>antecedent support</th>\n",
       "      <th>consequent support</th>\n",
       "      <th>support</th>\n",
       "      <th>confidence</th>\n",
       "      <th>lift</th>\n",
       "      <th>leverage</th>\n",
       "      <th>conviction</th>\n",
       "      <th>zhangs_metric</th>\n",
       "    </tr>\n",
       "  </thead>\n",
       "  <tbody>\n",
       "    <tr>\n",
       "      <th>31</th>\n",
       "      <td>(Southern Metropolitan)</td>\n",
       "      <td>(Northern Metropolitan)</td>\n",
       "      <td>0.412</td>\n",
       "      <td>0.352</td>\n",
       "      <td>0.176</td>\n",
       "      <td>0.427184</td>\n",
       "      <td>1.213592</td>\n",
       "      <td>0.030976</td>\n",
       "      <td>1.131254</td>\n",
       "      <td>0.299320</td>\n",
       "    </tr>\n",
       "    <tr>\n",
       "      <th>30</th>\n",
       "      <td>(Northern Metropolitan)</td>\n",
       "      <td>(Southern Metropolitan)</td>\n",
       "      <td>0.352</td>\n",
       "      <td>0.412</td>\n",
       "      <td>0.176</td>\n",
       "      <td>0.500000</td>\n",
       "      <td>1.213592</td>\n",
       "      <td>0.030976</td>\n",
       "      <td>1.176000</td>\n",
       "      <td>0.271605</td>\n",
       "    </tr>\n",
       "    <tr>\n",
       "      <th>32</th>\n",
       "      <td>(Northern Metropolitan)</td>\n",
       "      <td>(Western Metropolitan)</td>\n",
       "      <td>0.352</td>\n",
       "      <td>0.392</td>\n",
       "      <td>0.160</td>\n",
       "      <td>0.454545</td>\n",
       "      <td>1.159555</td>\n",
       "      <td>0.022016</td>\n",
       "      <td>1.114667</td>\n",
       "      <td>0.212346</td>\n",
       "    </tr>\n",
       "    <tr>\n",
       "      <th>33</th>\n",
       "      <td>(Western Metropolitan)</td>\n",
       "      <td>(Northern Metropolitan)</td>\n",
       "      <td>0.392</td>\n",
       "      <td>0.352</td>\n",
       "      <td>0.160</td>\n",
       "      <td>0.408163</td>\n",
       "      <td>1.159555</td>\n",
       "      <td>0.022016</td>\n",
       "      <td>1.094897</td>\n",
       "      <td>0.226316</td>\n",
       "    </tr>\n",
       "    <tr>\n",
       "      <th>50</th>\n",
       "      <td>(Southern Metropolitan)</td>\n",
       "      <td>(Western Metropolitan)</td>\n",
       "      <td>0.412</td>\n",
       "      <td>0.392</td>\n",
       "      <td>0.132</td>\n",
       "      <td>0.320388</td>\n",
       "      <td>0.817317</td>\n",
       "      <td>-0.029504</td>\n",
       "      <td>0.894629</td>\n",
       "      <td>-0.275429</td>\n",
       "    </tr>\n",
       "    <tr>\n",
       "      <th>51</th>\n",
       "      <td>(Western Metropolitan)</td>\n",
       "      <td>(Southern Metropolitan)</td>\n",
       "      <td>0.392</td>\n",
       "      <td>0.412</td>\n",
       "      <td>0.132</td>\n",
       "      <td>0.336735</td>\n",
       "      <td>0.817317</td>\n",
       "      <td>-0.029504</td>\n",
       "      <td>0.886523</td>\n",
       "      <td>-0.268805</td>\n",
       "    </tr>\n",
       "    <tr>\n",
       "      <th>44</th>\n",
       "      <td>(South-Eastern Metropolitan)</td>\n",
       "      <td>(Southern Metropolitan)</td>\n",
       "      <td>0.228</td>\n",
       "      <td>0.412</td>\n",
       "      <td>0.124</td>\n",
       "      <td>0.543860</td>\n",
       "      <td>1.320048</td>\n",
       "      <td>0.030064</td>\n",
       "      <td>1.289077</td>\n",
       "      <td>0.314056</td>\n",
       "    </tr>\n",
       "    <tr>\n",
       "      <th>45</th>\n",
       "      <td>(Southern Metropolitan)</td>\n",
       "      <td>(South-Eastern Metropolitan)</td>\n",
       "      <td>0.412</td>\n",
       "      <td>0.228</td>\n",
       "      <td>0.124</td>\n",
       "      <td>0.300971</td>\n",
       "      <td>1.320048</td>\n",
       "      <td>0.030064</td>\n",
       "      <td>1.104389</td>\n",
       "      <td>0.412333</td>\n",
       "    </tr>\n",
       "    <tr>\n",
       "      <th>2</th>\n",
       "      <td>(Northern Metropolitan)</td>\n",
       "      <td>(Eastern Metropolitan)</td>\n",
       "      <td>0.352</td>\n",
       "      <td>0.248</td>\n",
       "      <td>0.116</td>\n",
       "      <td>0.329545</td>\n",
       "      <td>1.328812</td>\n",
       "      <td>0.028704</td>\n",
       "      <td>1.121627</td>\n",
       "      <td>0.381865</td>\n",
       "    </tr>\n",
       "    <tr>\n",
       "      <th>3</th>\n",
       "      <td>(Eastern Metropolitan)</td>\n",
       "      <td>(Northern Metropolitan)</td>\n",
       "      <td>0.248</td>\n",
       "      <td>0.352</td>\n",
       "      <td>0.116</td>\n",
       "      <td>0.467742</td>\n",
       "      <td>1.328812</td>\n",
       "      <td>0.028704</td>\n",
       "      <td>1.217455</td>\n",
       "      <td>0.329054</td>\n",
       "    </tr>\n",
       "  </tbody>\n",
       "</table>\n",
       "</div>"
      ],
      "text/plain": [
       "                     antecedents                   consequents  \\\n",
       "31       (Southern Metropolitan)       (Northern Metropolitan)   \n",
       "30       (Northern Metropolitan)       (Southern Metropolitan)   \n",
       "32       (Northern Metropolitan)        (Western Metropolitan)   \n",
       "33        (Western Metropolitan)       (Northern Metropolitan)   \n",
       "50       (Southern Metropolitan)        (Western Metropolitan)   \n",
       "51        (Western Metropolitan)       (Southern Metropolitan)   \n",
       "44  (South-Eastern Metropolitan)       (Southern Metropolitan)   \n",
       "45       (Southern Metropolitan)  (South-Eastern Metropolitan)   \n",
       "2        (Northern Metropolitan)        (Eastern Metropolitan)   \n",
       "3         (Eastern Metropolitan)       (Northern Metropolitan)   \n",
       "\n",
       "    antecedent support  consequent support  support  confidence      lift  \\\n",
       "31               0.412               0.352    0.176    0.427184  1.213592   \n",
       "30               0.352               0.412    0.176    0.500000  1.213592   \n",
       "32               0.352               0.392    0.160    0.454545  1.159555   \n",
       "33               0.392               0.352    0.160    0.408163  1.159555   \n",
       "50               0.412               0.392    0.132    0.320388  0.817317   \n",
       "51               0.392               0.412    0.132    0.336735  0.817317   \n",
       "44               0.228               0.412    0.124    0.543860  1.320048   \n",
       "45               0.412               0.228    0.124    0.300971  1.320048   \n",
       "2                0.352               0.248    0.116    0.329545  1.328812   \n",
       "3                0.248               0.352    0.116    0.467742  1.328812   \n",
       "\n",
       "    leverage  conviction  zhangs_metric  \n",
       "31  0.030976    1.131254       0.299320  \n",
       "30  0.030976    1.176000       0.271605  \n",
       "32  0.022016    1.114667       0.212346  \n",
       "33  0.022016    1.094897       0.226316  \n",
       "50 -0.029504    0.894629      -0.275429  \n",
       "51 -0.029504    0.886523      -0.268805  \n",
       "44  0.030064    1.289077       0.314056  \n",
       "45  0.030064    1.104389       0.412333  \n",
       "2   0.028704    1.121627       0.381865  \n",
       "3   0.028704    1.217455       0.329054  "
      ]
     },
     "execution_count": 56,
     "metadata": {},
     "output_type": "execute_result"
    }
   ],
   "source": [
    "rules = association_rules(frequent_itemsets, metric=\"support\", min_threshold=0.001)\n",
    "rules.sort_values(\"support\", ascending=False).head(10)"
   ]
  },
  {
   "cell_type": "code",
   "execution_count": 57,
   "id": "11d1841b",
   "metadata": {},
   "outputs": [
    {
     "data": {
      "text/html": [
       "<div>\n",
       "<style scoped>\n",
       "    .dataframe tbody tr th:only-of-type {\n",
       "        vertical-align: middle;\n",
       "    }\n",
       "\n",
       "    .dataframe tbody tr th {\n",
       "        vertical-align: top;\n",
       "    }\n",
       "\n",
       "    .dataframe thead th {\n",
       "        text-align: right;\n",
       "    }\n",
       "</style>\n",
       "<table border=\"1\" class=\"dataframe\">\n",
       "  <thead>\n",
       "    <tr style=\"text-align: right;\">\n",
       "      <th></th>\n",
       "      <th>antecedents</th>\n",
       "      <th>consequents</th>\n",
       "      <th>antecedent support</th>\n",
       "      <th>consequent support</th>\n",
       "      <th>support</th>\n",
       "      <th>confidence</th>\n",
       "      <th>lift</th>\n",
       "      <th>leverage</th>\n",
       "      <th>conviction</th>\n",
       "      <th>zhangs_metric</th>\n",
       "    </tr>\n",
       "  </thead>\n",
       "  <tbody>\n",
       "    <tr>\n",
       "      <th>4086</th>\n",
       "      <td>(Western Victoria, Eastern Metropolitan)</td>\n",
       "      <td>(South-Eastern Metropolitan, Northern Metropol...</td>\n",
       "      <td>0.008</td>\n",
       "      <td>0.028</td>\n",
       "      <td>0.008</td>\n",
       "      <td>1.0</td>\n",
       "      <td>35.714286</td>\n",
       "      <td>0.007776</td>\n",
       "      <td>inf</td>\n",
       "      <td>0.979839</td>\n",
       "    </tr>\n",
       "    <tr>\n",
       "      <th>2041</th>\n",
       "      <td>(Western Victoria, Eastern Metropolitan, North...</td>\n",
       "      <td>(South-Eastern Metropolitan, Northern Victoria)</td>\n",
       "      <td>0.008</td>\n",
       "      <td>0.028</td>\n",
       "      <td>0.008</td>\n",
       "      <td>1.0</td>\n",
       "      <td>35.714286</td>\n",
       "      <td>0.007776</td>\n",
       "      <td>inf</td>\n",
       "      <td>0.979839</td>\n",
       "    </tr>\n",
       "    <tr>\n",
       "      <th>3189</th>\n",
       "      <td>(Western Victoria, Eastern Metropolitan, North...</td>\n",
       "      <td>(South-Eastern Metropolitan, Northern Victoria)</td>\n",
       "      <td>0.004</td>\n",
       "      <td>0.028</td>\n",
       "      <td>0.004</td>\n",
       "      <td>1.0</td>\n",
       "      <td>35.714286</td>\n",
       "      <td>0.003888</td>\n",
       "      <td>inf</td>\n",
       "      <td>0.975904</td>\n",
       "    </tr>\n",
       "    <tr>\n",
       "      <th>5507</th>\n",
       "      <td>(Western Victoria, Eastern Victoria, South-Eas...</td>\n",
       "      <td>(Eastern Metropolitan, Southern Metropolitan, ...</td>\n",
       "      <td>0.004</td>\n",
       "      <td>0.028</td>\n",
       "      <td>0.004</td>\n",
       "      <td>1.0</td>\n",
       "      <td>35.714286</td>\n",
       "      <td>0.003888</td>\n",
       "      <td>inf</td>\n",
       "      <td>0.975904</td>\n",
       "    </tr>\n",
       "    <tr>\n",
       "      <th>4148</th>\n",
       "      <td>(Western Victoria, Eastern Metropolitan)</td>\n",
       "      <td>(South-Eastern Metropolitan, Northern Metropol...</td>\n",
       "      <td>0.008</td>\n",
       "      <td>0.028</td>\n",
       "      <td>0.008</td>\n",
       "      <td>1.0</td>\n",
       "      <td>35.714286</td>\n",
       "      <td>0.007776</td>\n",
       "      <td>inf</td>\n",
       "      <td>0.979839</td>\n",
       "    </tr>\n",
       "    <tr>\n",
       "      <th>2048</th>\n",
       "      <td>(Western Victoria, Eastern Metropolitan)</td>\n",
       "      <td>(South-Eastern Metropolitan, Northern Metropol...</td>\n",
       "      <td>0.008</td>\n",
       "      <td>0.028</td>\n",
       "      <td>0.008</td>\n",
       "      <td>1.0</td>\n",
       "      <td>35.714286</td>\n",
       "      <td>0.007776</td>\n",
       "      <td>inf</td>\n",
       "      <td>0.979839</td>\n",
       "    </tr>\n",
       "    <tr>\n",
       "      <th>5108</th>\n",
       "      <td>(Western Victoria, Eastern Metropolitan, Easte...</td>\n",
       "      <td>(South-Eastern Metropolitan, Northern Metropol...</td>\n",
       "      <td>0.004</td>\n",
       "      <td>0.028</td>\n",
       "      <td>0.004</td>\n",
       "      <td>1.0</td>\n",
       "      <td>35.714286</td>\n",
       "      <td>0.003888</td>\n",
       "      <td>inf</td>\n",
       "      <td>0.975904</td>\n",
       "    </tr>\n",
       "    <tr>\n",
       "      <th>2311</th>\n",
       "      <td>(Western Victoria, Eastern Metropolitan, South...</td>\n",
       "      <td>(South-Eastern Metropolitan, Northern Victoria)</td>\n",
       "      <td>0.008</td>\n",
       "      <td>0.028</td>\n",
       "      <td>0.008</td>\n",
       "      <td>1.0</td>\n",
       "      <td>35.714286</td>\n",
       "      <td>0.007776</td>\n",
       "      <td>inf</td>\n",
       "      <td>0.979839</td>\n",
       "    </tr>\n",
       "    <tr>\n",
       "      <th>5995</th>\n",
       "      <td>(Western Victoria, Eastern Victoria, South-Eas...</td>\n",
       "      <td>(Eastern Metropolitan, Northern Victoria, West...</td>\n",
       "      <td>0.004</td>\n",
       "      <td>0.028</td>\n",
       "      <td>0.004</td>\n",
       "      <td>1.0</td>\n",
       "      <td>35.714286</td>\n",
       "      <td>0.003888</td>\n",
       "      <td>inf</td>\n",
       "      <td>0.975904</td>\n",
       "    </tr>\n",
       "    <tr>\n",
       "      <th>5456</th>\n",
       "      <td>(Western Victoria, Eastern Metropolitan, Easte...</td>\n",
       "      <td>(South-Eastern Metropolitan, Southern Metropol...</td>\n",
       "      <td>0.004</td>\n",
       "      <td>0.028</td>\n",
       "      <td>0.004</td>\n",
       "      <td>1.0</td>\n",
       "      <td>35.714286</td>\n",
       "      <td>0.003888</td>\n",
       "      <td>inf</td>\n",
       "      <td>0.975904</td>\n",
       "    </tr>\n",
       "  </tbody>\n",
       "</table>\n",
       "</div>"
      ],
      "text/plain": [
       "                                            antecedents  \\\n",
       "4086           (Western Victoria, Eastern Metropolitan)   \n",
       "2041  (Western Victoria, Eastern Metropolitan, North...   \n",
       "3189  (Western Victoria, Eastern Metropolitan, North...   \n",
       "5507  (Western Victoria, Eastern Victoria, South-Eas...   \n",
       "4148           (Western Victoria, Eastern Metropolitan)   \n",
       "2048           (Western Victoria, Eastern Metropolitan)   \n",
       "5108  (Western Victoria, Eastern Metropolitan, Easte...   \n",
       "2311  (Western Victoria, Eastern Metropolitan, South...   \n",
       "5995  (Western Victoria, Eastern Victoria, South-Eas...   \n",
       "5456  (Western Victoria, Eastern Metropolitan, Easte...   \n",
       "\n",
       "                                            consequents  antecedent support  \\\n",
       "4086  (South-Eastern Metropolitan, Northern Metropol...               0.008   \n",
       "2041    (South-Eastern Metropolitan, Northern Victoria)               0.008   \n",
       "3189    (South-Eastern Metropolitan, Northern Victoria)               0.004   \n",
       "5507  (Eastern Metropolitan, Southern Metropolitan, ...               0.004   \n",
       "4148  (South-Eastern Metropolitan, Northern Metropol...               0.008   \n",
       "2048  (South-Eastern Metropolitan, Northern Metropol...               0.008   \n",
       "5108  (South-Eastern Metropolitan, Northern Metropol...               0.004   \n",
       "2311    (South-Eastern Metropolitan, Northern Victoria)               0.008   \n",
       "5995  (Eastern Metropolitan, Northern Victoria, West...               0.004   \n",
       "5456  (South-Eastern Metropolitan, Southern Metropol...               0.004   \n",
       "\n",
       "      consequent support  support  confidence       lift  leverage  \\\n",
       "4086               0.028    0.008         1.0  35.714286  0.007776   \n",
       "2041               0.028    0.008         1.0  35.714286  0.007776   \n",
       "3189               0.028    0.004         1.0  35.714286  0.003888   \n",
       "5507               0.028    0.004         1.0  35.714286  0.003888   \n",
       "4148               0.028    0.008         1.0  35.714286  0.007776   \n",
       "2048               0.028    0.008         1.0  35.714286  0.007776   \n",
       "5108               0.028    0.004         1.0  35.714286  0.003888   \n",
       "2311               0.028    0.008         1.0  35.714286  0.007776   \n",
       "5995               0.028    0.004         1.0  35.714286  0.003888   \n",
       "5456               0.028    0.004         1.0  35.714286  0.003888   \n",
       "\n",
       "      conviction  zhangs_metric  \n",
       "4086         inf       0.979839  \n",
       "2041         inf       0.979839  \n",
       "3189         inf       0.975904  \n",
       "5507         inf       0.975904  \n",
       "4148         inf       0.979839  \n",
       "2048         inf       0.979839  \n",
       "5108         inf       0.975904  \n",
       "2311         inf       0.979839  \n",
       "5995         inf       0.975904  \n",
       "5456         inf       0.975904  "
      ]
     },
     "execution_count": 57,
     "metadata": {},
     "output_type": "execute_result"
    }
   ],
   "source": [
    "sorted_rules = rules.sort_values(\"lift\", ascending=False)\n",
    "rules.sort_values(\"lift\", ascending=False).head(10)"
   ]
  },
  {
   "cell_type": "code",
   "execution_count": 49,
   "id": "510e7f62",
   "metadata": {
    "collapsed": true
   },
   "outputs": [
    {
     "name": "stdout",
     "output_type": "stream",
     "text": [
      "                            Price                                         \\\n",
      "Regionname   Eastern Metropolitan Eastern Victoria Northern Metropolitan   \n",
      "SellerG                                                                    \n",
      "@Realty                         1                0                     1   \n",
      "Abercromby's                    0                0                     1   \n",
      "Ace                             0                0                     0   \n",
      "Alexkarbon                      0                0                     1   \n",
      "Allens                          1                0                     0   \n",
      "Anderson                        0                0                     0   \n",
      "Appleby                         1                0                     0   \n",
      "Aquire                          0                0                     0   \n",
      "Area                            0                0                     0   \n",
      "Ascend                          0                0                     1   \n",
      "\n",
      "                                                           \\\n",
      "Regionname   Northern Victoria South-Eastern Metropolitan   \n",
      "SellerG                                                     \n",
      "@Realty                      0                          0   \n",
      "Abercromby's                 0                          0   \n",
      "Ace                          0                          0   \n",
      "Alexkarbon                   0                          0   \n",
      "Allens                       0                          0   \n",
      "Anderson                     0                          0   \n",
      "Appleby                      0                          0   \n",
      "Aquire                       0                          1   \n",
      "Area                         0                          1   \n",
      "Ascend                       0                          0   \n",
      "\n",
      "                                                                          \n",
      "Regionname   Southern Metropolitan Western Metropolitan Western Victoria  \n",
      "SellerG                                                                   \n",
      "@Realty                          0                    0                0  \n",
      "Abercromby's                     1                    0                0  \n",
      "Ace                              0                    1                0  \n",
      "Alexkarbon                       0                    1                0  \n",
      "Allens                           0                    0                0  \n",
      "Anderson                         1                    0                0  \n",
      "Appleby                          0                    0                0  \n",
      "Aquire                           0                    0                0  \n",
      "Area                             0                    0                0  \n",
      "Ascend                           1                    0                0  \n",
      "Regionname    Eastern Metropolitan  Eastern Victoria  Northern Metropolitan  \\\n",
      "SellerG                                                                       \n",
      "@Realty                          1                 0                      1   \n",
      "Abercromby's                     0                 0                      1   \n",
      "Ace                              0                 0                      0   \n",
      "Alexkarbon                       0                 0                      1   \n",
      "Allens                           1                 0                      0   \n",
      "Anderson                         0                 0                      0   \n",
      "Appleby                          1                 0                      0   \n",
      "Aquire                           0                 0                      0   \n",
      "Area                             0                 0                      0   \n",
      "Ascend                           0                 0                      1   \n",
      "\n",
      "Regionname    Northern Victoria  South-Eastern Metropolitan  \\\n",
      "SellerG                                                       \n",
      "@Realty                       0                           0   \n",
      "Abercromby's                  0                           0   \n",
      "Ace                           0                           0   \n",
      "Alexkarbon                    0                           0   \n",
      "Allens                        0                           0   \n",
      "Anderson                      0                           0   \n",
      "Appleby                       0                           0   \n",
      "Aquire                        0                           1   \n",
      "Area                          0                           1   \n",
      "Ascend                        0                           0   \n",
      "\n",
      "Regionname    Southern Metropolitan  Western Metropolitan  Western Victoria  \n",
      "SellerG                                                                      \n",
      "@Realty                           0                     0                 0  \n",
      "Abercromby's                      1                     0                 0  \n",
      "Ace                               0                     1                 0  \n",
      "Alexkarbon                        0                     1                 0  \n",
      "Allens                            0                     0                 0  \n",
      "Anderson                          1                     0                 0  \n",
      "Appleby                           0                     0                 0  \n",
      "Aquire                            0                     0                 0  \n",
      "Area                              0                     0                 0  \n",
      "Ascend                            1                     0                 0  \n"
     ]
    }
   ],
   "source": [
    "# Assuming you have a DataFrame called 'df' with columns 'SellerG', 'Regionname', and 'Price'\n",
    "\n",
    "# Group by 'SellerG' and 'Regionname', calculate sum of 'Price' for each group\n",
    "grouped_df = df.groupby(['SellerG', 'Regionname']).agg({\"Price\": \"sum\"})\n",
    "\n",
    "# Create a matrix representation\n",
    "df_seller_regionname_matrix_1 = grouped_df.unstack().fillna(0).applymap(lambda x: 1 if x > 0 else 0)\n",
    "\n",
    "# Print the resulting matrix\n",
    "print(df_seller_regionname_matrix_1.head(10))\n",
    "\n",
    "df_seller_regionname_matrix_1.columns = df_seller_regionname_matrix.columns.get_level_values(1)\n",
    "\n",
    "print(df_seller_regionname_matrix_1.head(10))"
   ]
  },
  {
   "cell_type": "code",
   "execution_count": 32,
   "id": "16f39be7",
   "metadata": {},
   "outputs": [
    {
     "data": {
      "text/html": [
       "<div>\n",
       "<style scoped>\n",
       "    .dataframe tbody tr th:only-of-type {\n",
       "        vertical-align: middle;\n",
       "    }\n",
       "\n",
       "    .dataframe tbody tr th {\n",
       "        vertical-align: top;\n",
       "    }\n",
       "\n",
       "    .dataframe thead tr th {\n",
       "        text-align: left;\n",
       "    }\n",
       "\n",
       "    .dataframe thead tr:last-of-type th {\n",
       "        text-align: right;\n",
       "    }\n",
       "</style>\n",
       "<table border=\"1\" class=\"dataframe\">\n",
       "  <thead>\n",
       "    <tr>\n",
       "      <th></th>\n",
       "      <th colspan=\"8\" halign=\"left\">Price</th>\n",
       "    </tr>\n",
       "    <tr>\n",
       "      <th>Regionname</th>\n",
       "      <th>Eastern Metropolitan</th>\n",
       "      <th>Eastern Victoria</th>\n",
       "      <th>Northern Metropolitan</th>\n",
       "      <th>Northern Victoria</th>\n",
       "      <th>South-Eastern Metropolitan</th>\n",
       "      <th>Southern Metropolitan</th>\n",
       "      <th>Western Metropolitan</th>\n",
       "      <th>Western Victoria</th>\n",
       "    </tr>\n",
       "    <tr>\n",
       "      <th>SellerG</th>\n",
       "      <th></th>\n",
       "      <th></th>\n",
       "      <th></th>\n",
       "      <th></th>\n",
       "      <th></th>\n",
       "      <th></th>\n",
       "      <th></th>\n",
       "      <th></th>\n",
       "    </tr>\n",
       "  </thead>\n",
       "  <tbody>\n",
       "    <tr>\n",
       "      <th>@Realty</th>\n",
       "      <td>1</td>\n",
       "      <td>0</td>\n",
       "      <td>1</td>\n",
       "      <td>0</td>\n",
       "      <td>0</td>\n",
       "      <td>0</td>\n",
       "      <td>0</td>\n",
       "      <td>0</td>\n",
       "    </tr>\n",
       "    <tr>\n",
       "      <th>Abercromby's</th>\n",
       "      <td>0</td>\n",
       "      <td>0</td>\n",
       "      <td>1</td>\n",
       "      <td>0</td>\n",
       "      <td>0</td>\n",
       "      <td>1</td>\n",
       "      <td>0</td>\n",
       "      <td>0</td>\n",
       "    </tr>\n",
       "    <tr>\n",
       "      <th>Ace</th>\n",
       "      <td>0</td>\n",
       "      <td>0</td>\n",
       "      <td>0</td>\n",
       "      <td>0</td>\n",
       "      <td>0</td>\n",
       "      <td>0</td>\n",
       "      <td>1</td>\n",
       "      <td>0</td>\n",
       "    </tr>\n",
       "    <tr>\n",
       "      <th>Alexkarbon</th>\n",
       "      <td>0</td>\n",
       "      <td>0</td>\n",
       "      <td>1</td>\n",
       "      <td>0</td>\n",
       "      <td>0</td>\n",
       "      <td>0</td>\n",
       "      <td>1</td>\n",
       "      <td>0</td>\n",
       "    </tr>\n",
       "    <tr>\n",
       "      <th>Allens</th>\n",
       "      <td>1</td>\n",
       "      <td>0</td>\n",
       "      <td>0</td>\n",
       "      <td>0</td>\n",
       "      <td>0</td>\n",
       "      <td>0</td>\n",
       "      <td>0</td>\n",
       "      <td>0</td>\n",
       "    </tr>\n",
       "    <tr>\n",
       "      <th>...</th>\n",
       "      <td>...</td>\n",
       "      <td>...</td>\n",
       "      <td>...</td>\n",
       "      <td>...</td>\n",
       "      <td>...</td>\n",
       "      <td>...</td>\n",
       "      <td>...</td>\n",
       "      <td>...</td>\n",
       "    </tr>\n",
       "    <tr>\n",
       "      <th>J</th>\n",
       "      <td>0</td>\n",
       "      <td>0</td>\n",
       "      <td>1</td>\n",
       "      <td>0</td>\n",
       "      <td>0</td>\n",
       "      <td>1</td>\n",
       "      <td>0</td>\n",
       "      <td>0</td>\n",
       "    </tr>\n",
       "    <tr>\n",
       "      <th>JMRE</th>\n",
       "      <td>0</td>\n",
       "      <td>0</td>\n",
       "      <td>1</td>\n",
       "      <td>0</td>\n",
       "      <td>0</td>\n",
       "      <td>0</td>\n",
       "      <td>0</td>\n",
       "      <td>0</td>\n",
       "    </tr>\n",
       "    <tr>\n",
       "      <th>JRW</th>\n",
       "      <td>1</td>\n",
       "      <td>0</td>\n",
       "      <td>0</td>\n",
       "      <td>0</td>\n",
       "      <td>0</td>\n",
       "      <td>0</td>\n",
       "      <td>0</td>\n",
       "      <td>0</td>\n",
       "    </tr>\n",
       "    <tr>\n",
       "      <th>Jas</th>\n",
       "      <td>0</td>\n",
       "      <td>0</td>\n",
       "      <td>0</td>\n",
       "      <td>0</td>\n",
       "      <td>0</td>\n",
       "      <td>0</td>\n",
       "      <td>1</td>\n",
       "      <td>0</td>\n",
       "    </tr>\n",
       "    <tr>\n",
       "      <th>Jason</th>\n",
       "      <td>0</td>\n",
       "      <td>0</td>\n",
       "      <td>1</td>\n",
       "      <td>0</td>\n",
       "      <td>0</td>\n",
       "      <td>0</td>\n",
       "      <td>1</td>\n",
       "      <td>0</td>\n",
       "    </tr>\n",
       "  </tbody>\n",
       "</table>\n",
       "<p>100 rows × 8 columns</p>\n",
       "</div>"
      ],
      "text/plain": [
       "                            Price                                         \\\n",
       "Regionname   Eastern Metropolitan Eastern Victoria Northern Metropolitan   \n",
       "SellerG                                                                    \n",
       "@Realty                         1                0                     1   \n",
       "Abercromby's                    0                0                     1   \n",
       "Ace                             0                0                     0   \n",
       "Alexkarbon                      0                0                     1   \n",
       "Allens                          1                0                     0   \n",
       "...                           ...              ...                   ...   \n",
       "J                               0                0                     1   \n",
       "JMRE                            0                0                     1   \n",
       "JRW                             1                0                     0   \n",
       "Jas                             0                0                     0   \n",
       "Jason                           0                0                     1   \n",
       "\n",
       "                                                           \\\n",
       "Regionname   Northern Victoria South-Eastern Metropolitan   \n",
       "SellerG                                                     \n",
       "@Realty                      0                          0   \n",
       "Abercromby's                 0                          0   \n",
       "Ace                          0                          0   \n",
       "Alexkarbon                   0                          0   \n",
       "Allens                       0                          0   \n",
       "...                        ...                        ...   \n",
       "J                            0                          0   \n",
       "JMRE                         0                          0   \n",
       "JRW                          0                          0   \n",
       "Jas                          0                          0   \n",
       "Jason                        0                          0   \n",
       "\n",
       "                                                                          \n",
       "Regionname   Southern Metropolitan Western Metropolitan Western Victoria  \n",
       "SellerG                                                                   \n",
       "@Realty                          0                    0                0  \n",
       "Abercromby's                     1                    0                0  \n",
       "Ace                              0                    1                0  \n",
       "Alexkarbon                       0                    1                0  \n",
       "Allens                           0                    0                0  \n",
       "...                            ...                  ...              ...  \n",
       "J                                1                    0                0  \n",
       "JMRE                             0                    0                0  \n",
       "JRW                              0                    0                0  \n",
       "Jas                              0                    1                0  \n",
       "Jason                            0                    1                0  \n",
       "\n",
       "[100 rows x 8 columns]"
      ]
     },
     "execution_count": 32,
     "metadata": {},
     "output_type": "execute_result"
    }
   ],
   "source": [
    "df_seller_regionname_matrix = df.groupby(['SellerG','Regionname']).  \\\n",
    "    agg({\"Price\": \"sum\"}).unstack().fillna(0).  \\\n",
    "    applymap(lambda x: 1 if x > 0 else 0)\n",
    "\n",
    "df_seller_regionname_matrix.head(100)"
   ]
  }
 ],
 "metadata": {
  "kernelspec": {
   "display_name": "Python 3 (ipykernel)",
   "language": "python",
   "name": "python3"
  },
  "language_info": {
   "codemirror_mode": {
    "name": "ipython",
    "version": 3
   },
   "file_extension": ".py",
   "mimetype": "text/x-python",
   "name": "python",
   "nbconvert_exporter": "python",
   "pygments_lexer": "ipython3",
   "version": "3.10.9"
  }
 },
 "nbformat": 4,
 "nbformat_minor": 5
}
